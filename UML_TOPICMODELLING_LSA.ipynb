{
  "nbformat": 4,
  "nbformat_minor": 0,
  "metadata": {
    "colab": {
      "name": "UML_TOPICMODELLING_LSA",
      "provenance": [],
      "collapsed_sections": [],
      "machine_shape": "hm"
    },
    "kernelspec": {
      "name": "python3",
      "display_name": "Python 3"
    },
    "language_info": {
      "name": "python"
    },
    "accelerator": "GPU"
  },
  "cells": [
    {
      "cell_type": "code",
      "execution_count": null,
      "metadata": {
        "id": "-2s-QclFH_tA"
      },
      "outputs": [],
      "source": [
        "import numpy as np\n",
        "import pandas as pd\n",
        "from google.colab import drive\n",
        "import os\n",
        "import re\n",
        "import nltk\n",
        "from nltk.corpus import stopwords\n",
        "from nltk.stem import PorterStemmer\n",
        "from nltk.tokenize import word_tokenize\n",
        "import warnings\n",
        "!python -m spacy download en_core_web_md \n",
        "!pip install pyLDAvis\n",
        "import en_core_web_sm\n",
        "import gensim\n",
        "from gensim import corpora\n",
        "import warnings\n",
        "warnings.filterwarnings('ignore')\n",
        "import pyLDAvis\n",
        "import pyLDAvis.gensim_models as gensimvis\n",
        "import matplotlib.pyplot as plt\n",
        "import seaborn as sns\n",
        "%matplotlib inline\n",
        "import pyLDAvis\n",
        "from gensim.models import LsiModel\n",
        "from gensim.models.coherencemodel import CoherenceModel\n",
        "from sklearn.utils.extmath import randomized_svd\n",
        "from sklearn.cluster import MiniBatchKMeans,KMeans\n",
        "from sklearn.metrics import silhouette_samples, silhouette_score\n",
        "!pip install wordcloud\n",
        "from wordcloud import WordCloud\n",
        "from sklearn.manifold import TSNE\n",
        "from sklearn.feature_extraction.text import TfidfVectorizer"
      ]
    },
    {
      "cell_type": "code",
      "source": [
        "nltk.download('stopwords')\n",
        "nltk.download('punkt')"
      ],
      "metadata": {
        "colab": {
          "base_uri": "https://localhost:8080/"
        },
        "id": "Oa9NEijtlLUt",
        "outputId": "0939e3b9-f238-4d1f-e58c-e67b4d000468"
      },
      "execution_count": null,
      "outputs": [
        {
          "output_type": "stream",
          "name": "stdout",
          "text": [
            "[nltk_data] Downloading package stopwords to /root/nltk_data...\n",
            "[nltk_data]   Unzipping corpora/stopwords.zip.\n",
            "[nltk_data] Downloading package punkt to /root/nltk_data...\n",
            "[nltk_data]   Unzipping tokenizers/punkt.zip.\n"
          ]
        },
        {
          "output_type": "execute_result",
          "data": {
            "text/plain": [
              "True"
            ]
          },
          "metadata": {},
          "execution_count": 4
        }
      ]
    },
    {
      "cell_type": "code",
      "source": [
        "drive.mount('/content/drive')"
      ],
      "metadata": {
        "id": "xvhOcU08Mxmg",
        "colab": {
          "base_uri": "https://localhost:8080/"
        },
        "outputId": "d42f9131-fd7e-41d4-cc25-afeb89a9d1c7"
      },
      "execution_count": null,
      "outputs": [
        {
          "output_type": "stream",
          "name": "stdout",
          "text": [
            "Mounted at /content/drive\n"
          ]
        }
      ]
    },
    {
      "cell_type": "code",
      "source": [
        "!ls"
      ],
      "metadata": {
        "colab": {
          "base_uri": "https://localhost:8080/"
        },
        "id": "AoH35zpofBiH",
        "outputId": "1e10b342-d2f8-4480-e9d7-e3036db8b7be"
      },
      "execution_count": null,
      "outputs": [
        {
          "output_type": "stream",
          "name": "stdout",
          "text": [
            "drive  sample_data\n"
          ]
        }
      ]
    },
    {
      "cell_type": "code",
      "source": [
        "root = \"/content/drive/MyDrive/USML_Final_Project/topic-modeling-datasets-master/data/raw/20news-bydate/20news-bydate-train\""
      ],
      "metadata": {
        "id": "VShvUN41fSUY"
      },
      "execution_count": null,
      "outputs": []
    },
    {
      "cell_type": "code",
      "source": [
        "def read_files(file_path):\n",
        "   with open(file_path, 'r') as file:\n",
        "      print(file.read())"
      ],
      "metadata": {
        "id": "4zotBXSBgS4b"
      },
      "execution_count": null,
      "outputs": []
    },
    {
      "cell_type": "code",
      "source": [
        "os.chdir(root)\n",
        "os.listdir()"
      ],
      "metadata": {
        "colab": {
          "base_uri": "https://localhost:8080/"
        },
        "id": "3DUZB_WogtMS",
        "outputId": "f182c83e-78cc-4969-bb5b-cf0f1dccc91d"
      },
      "execution_count": null,
      "outputs": [
        {
          "output_type": "execute_result",
          "data": {
            "text/plain": [
              "['alt.atheism',\n",
              " 'rec.sport.baseball',\n",
              " 'sci.med',\n",
              " 'rec.motorcycles',\n",
              " 'talk.religion.misc',\n",
              " 'comp.sys.ibm.pc.hardware',\n",
              " 'sci.space',\n",
              " 'sci.electronics',\n",
              " 'comp.graphics',\n",
              " 'talk.politics.guns',\n",
              " 'sci.crypt',\n",
              " 'Countvect_LSA_wordcloud.jpg']"
            ]
          },
          "metadata": {},
          "execution_count": 9
        }
      ]
    },
    {
      "cell_type": "code",
      "source": [
        "list_needed = ['sci.crypt',\n",
        " 'rec.sport.baseball',\n",
        " 'sci.med',\n",
        " 'rec.motorcycles',\n",
        " 'talk.religion.misc',\n",
        " 'comp.sys.ibm.pc.hardware',\n",
        " 'sci.space',\n",
        " 'rec.motorcycles',\n",
        " 'comp.graphics',\n",
        " 'talk.politics.guns']"
      ],
      "metadata": {
        "id": "aiHDKS6Fu6Pu"
      },
      "execution_count": null,
      "outputs": []
    },
    {
      "cell_type": "code",
      "source": [
        "file_content = []\n",
        "for direc in list_needed:\n",
        "  for file in os.listdir(root+\"/\"+direc):\n",
        "      file_path =f\"{root}/{direc}/{file}\"\n",
        "      file_size = os.path.getsize(file_path)\n",
        "      # fd = os.open(file_path,os.O_RDONLY)\n",
        "      # content = os.read(fd,file_size).decode('ascii')\n",
        "      fd = open(file_path,encoding=\"ISO-8859-1\")\n",
        "      content = fd.read(file_size)\n",
        "      file_content.append(content)"
      ],
      "metadata": {
        "id": "sDofcBWkf3Go"
      },
      "execution_count": null,
      "outputs": []
    },
    {
      "cell_type": "code",
      "source": [
        "data = pd.DataFrame(file_content,columns=[\"Text_content\"])\n",
        "data.head()"
      ],
      "metadata": {
        "colab": {
          "base_uri": "https://localhost:8080/",
          "height": 206
        },
        "id": "stRYa0W_p3sx",
        "outputId": "fdcecd51-b85b-4514-b1eb-9d77c7f343ae"
      },
      "execution_count": null,
      "outputs": [
        {
          "output_type": "execute_result",
          "data": {
            "text/plain": [
              "                                        Text_content\n",
              "0  From: trussell@cwis.unomaha.edu (Tim Russell)\\...\n",
              "1  From: Grant@DOCKMASTER.NCSC.MIL (Lynn R Grant)...\n",
              "2  From: mcbeeb@atlantis.CSOS.ORST.EDU (Brian Mcb...\n",
              "3  From: jhan@debra.dgbt.doc.ca (Jerry Han)\\nSubj...\n",
              "4  From: jebright@magnus.acs.ohio-state.edu (Jame..."
            ],
            "text/html": [
              "\n",
              "  <div id=\"df-880e5912-ed25-4ba1-be5d-ef6ba9bff9f4\">\n",
              "    <div class=\"colab-df-container\">\n",
              "      <div>\n",
              "<style scoped>\n",
              "    .dataframe tbody tr th:only-of-type {\n",
              "        vertical-align: middle;\n",
              "    }\n",
              "\n",
              "    .dataframe tbody tr th {\n",
              "        vertical-align: top;\n",
              "    }\n",
              "\n",
              "    .dataframe thead th {\n",
              "        text-align: right;\n",
              "    }\n",
              "</style>\n",
              "<table border=\"1\" class=\"dataframe\">\n",
              "  <thead>\n",
              "    <tr style=\"text-align: right;\">\n",
              "      <th></th>\n",
              "      <th>Text_content</th>\n",
              "    </tr>\n",
              "  </thead>\n",
              "  <tbody>\n",
              "    <tr>\n",
              "      <th>0</th>\n",
              "      <td>From: trussell@cwis.unomaha.edu (Tim Russell)\\...</td>\n",
              "    </tr>\n",
              "    <tr>\n",
              "      <th>1</th>\n",
              "      <td>From: Grant@DOCKMASTER.NCSC.MIL (Lynn R Grant)...</td>\n",
              "    </tr>\n",
              "    <tr>\n",
              "      <th>2</th>\n",
              "      <td>From: mcbeeb@atlantis.CSOS.ORST.EDU (Brian Mcb...</td>\n",
              "    </tr>\n",
              "    <tr>\n",
              "      <th>3</th>\n",
              "      <td>From: jhan@debra.dgbt.doc.ca (Jerry Han)\\nSubj...</td>\n",
              "    </tr>\n",
              "    <tr>\n",
              "      <th>4</th>\n",
              "      <td>From: jebright@magnus.acs.ohio-state.edu (Jame...</td>\n",
              "    </tr>\n",
              "  </tbody>\n",
              "</table>\n",
              "</div>\n",
              "      <button class=\"colab-df-convert\" onclick=\"convertToInteractive('df-880e5912-ed25-4ba1-be5d-ef6ba9bff9f4')\"\n",
              "              title=\"Convert this dataframe to an interactive table.\"\n",
              "              style=\"display:none;\">\n",
              "        \n",
              "  <svg xmlns=\"http://www.w3.org/2000/svg\" height=\"24px\"viewBox=\"0 0 24 24\"\n",
              "       width=\"24px\">\n",
              "    <path d=\"M0 0h24v24H0V0z\" fill=\"none\"/>\n",
              "    <path d=\"M18.56 5.44l.94 2.06.94-2.06 2.06-.94-2.06-.94-.94-2.06-.94 2.06-2.06.94zm-11 1L8.5 8.5l.94-2.06 2.06-.94-2.06-.94L8.5 2.5l-.94 2.06-2.06.94zm10 10l.94 2.06.94-2.06 2.06-.94-2.06-.94-.94-2.06-.94 2.06-2.06.94z\"/><path d=\"M17.41 7.96l-1.37-1.37c-.4-.4-.92-.59-1.43-.59-.52 0-1.04.2-1.43.59L10.3 9.45l-7.72 7.72c-.78.78-.78 2.05 0 2.83L4 21.41c.39.39.9.59 1.41.59.51 0 1.02-.2 1.41-.59l7.78-7.78 2.81-2.81c.8-.78.8-2.07 0-2.86zM5.41 20L4 18.59l7.72-7.72 1.47 1.35L5.41 20z\"/>\n",
              "  </svg>\n",
              "      </button>\n",
              "      \n",
              "  <style>\n",
              "    .colab-df-container {\n",
              "      display:flex;\n",
              "      flex-wrap:wrap;\n",
              "      gap: 12px;\n",
              "    }\n",
              "\n",
              "    .colab-df-convert {\n",
              "      background-color: #E8F0FE;\n",
              "      border: none;\n",
              "      border-radius: 50%;\n",
              "      cursor: pointer;\n",
              "      display: none;\n",
              "      fill: #1967D2;\n",
              "      height: 32px;\n",
              "      padding: 0 0 0 0;\n",
              "      width: 32px;\n",
              "    }\n",
              "\n",
              "    .colab-df-convert:hover {\n",
              "      background-color: #E2EBFA;\n",
              "      box-shadow: 0px 1px 2px rgba(60, 64, 67, 0.3), 0px 1px 3px 1px rgba(60, 64, 67, 0.15);\n",
              "      fill: #174EA6;\n",
              "    }\n",
              "\n",
              "    [theme=dark] .colab-df-convert {\n",
              "      background-color: #3B4455;\n",
              "      fill: #D2E3FC;\n",
              "    }\n",
              "\n",
              "    [theme=dark] .colab-df-convert:hover {\n",
              "      background-color: #434B5C;\n",
              "      box-shadow: 0px 1px 3px 1px rgba(0, 0, 0, 0.15);\n",
              "      filter: drop-shadow(0px 1px 2px rgba(0, 0, 0, 0.3));\n",
              "      fill: #FFFFFF;\n",
              "    }\n",
              "  </style>\n",
              "\n",
              "      <script>\n",
              "        const buttonEl =\n",
              "          document.querySelector('#df-880e5912-ed25-4ba1-be5d-ef6ba9bff9f4 button.colab-df-convert');\n",
              "        buttonEl.style.display =\n",
              "          google.colab.kernel.accessAllowed ? 'block' : 'none';\n",
              "\n",
              "        async function convertToInteractive(key) {\n",
              "          const element = document.querySelector('#df-880e5912-ed25-4ba1-be5d-ef6ba9bff9f4');\n",
              "          const dataTable =\n",
              "            await google.colab.kernel.invokeFunction('convertToInteractive',\n",
              "                                                     [key], {});\n",
              "          if (!dataTable) return;\n",
              "\n",
              "          const docLinkHtml = 'Like what you see? Visit the ' +\n",
              "            '<a target=\"_blank\" href=https://colab.research.google.com/notebooks/data_table.ipynb>data table notebook</a>'\n",
              "            + ' to learn more about interactive tables.';\n",
              "          element.innerHTML = '';\n",
              "          dataTable['output_type'] = 'display_data';\n",
              "          await google.colab.output.renderOutput(dataTable, element);\n",
              "          const docLink = document.createElement('div');\n",
              "          docLink.innerHTML = docLinkHtml;\n",
              "          element.appendChild(docLink);\n",
              "        }\n",
              "      </script>\n",
              "    </div>\n",
              "  </div>\n",
              "  "
            ]
          },
          "metadata": {},
          "execution_count": 11
        }
      ]
    },
    {
      "cell_type": "code",
      "source": [
        "data.reset_index(inplace=True)\n",
        "data.head()"
      ],
      "metadata": {
        "colab": {
          "base_uri": "https://localhost:8080/",
          "height": 206
        },
        "id": "YCgGnneRp1dN",
        "outputId": "d44f00a3-76c6-46b4-a9e3-dc5477063f74"
      },
      "execution_count": null,
      "outputs": [
        {
          "output_type": "execute_result",
          "data": {
            "text/plain": [
              "   index                                       Text_content\n",
              "0      0  From: trussell@cwis.unomaha.edu (Tim Russell)\\...\n",
              "1      1  From: Grant@DOCKMASTER.NCSC.MIL (Lynn R Grant)...\n",
              "2      2  From: mcbeeb@atlantis.CSOS.ORST.EDU (Brian Mcb...\n",
              "3      3  From: jhan@debra.dgbt.doc.ca (Jerry Han)\\nSubj...\n",
              "4      4  From: jebright@magnus.acs.ohio-state.edu (Jame..."
            ],
            "text/html": [
              "\n",
              "  <div id=\"df-c580ff5a-6eb8-4171-b2db-625119df81fa\">\n",
              "    <div class=\"colab-df-container\">\n",
              "      <div>\n",
              "<style scoped>\n",
              "    .dataframe tbody tr th:only-of-type {\n",
              "        vertical-align: middle;\n",
              "    }\n",
              "\n",
              "    .dataframe tbody tr th {\n",
              "        vertical-align: top;\n",
              "    }\n",
              "\n",
              "    .dataframe thead th {\n",
              "        text-align: right;\n",
              "    }\n",
              "</style>\n",
              "<table border=\"1\" class=\"dataframe\">\n",
              "  <thead>\n",
              "    <tr style=\"text-align: right;\">\n",
              "      <th></th>\n",
              "      <th>index</th>\n",
              "      <th>Text_content</th>\n",
              "    </tr>\n",
              "  </thead>\n",
              "  <tbody>\n",
              "    <tr>\n",
              "      <th>0</th>\n",
              "      <td>0</td>\n",
              "      <td>From: trussell@cwis.unomaha.edu (Tim Russell)\\...</td>\n",
              "    </tr>\n",
              "    <tr>\n",
              "      <th>1</th>\n",
              "      <td>1</td>\n",
              "      <td>From: Grant@DOCKMASTER.NCSC.MIL (Lynn R Grant)...</td>\n",
              "    </tr>\n",
              "    <tr>\n",
              "      <th>2</th>\n",
              "      <td>2</td>\n",
              "      <td>From: mcbeeb@atlantis.CSOS.ORST.EDU (Brian Mcb...</td>\n",
              "    </tr>\n",
              "    <tr>\n",
              "      <th>3</th>\n",
              "      <td>3</td>\n",
              "      <td>From: jhan@debra.dgbt.doc.ca (Jerry Han)\\nSubj...</td>\n",
              "    </tr>\n",
              "    <tr>\n",
              "      <th>4</th>\n",
              "      <td>4</td>\n",
              "      <td>From: jebright@magnus.acs.ohio-state.edu (Jame...</td>\n",
              "    </tr>\n",
              "  </tbody>\n",
              "</table>\n",
              "</div>\n",
              "      <button class=\"colab-df-convert\" onclick=\"convertToInteractive('df-c580ff5a-6eb8-4171-b2db-625119df81fa')\"\n",
              "              title=\"Convert this dataframe to an interactive table.\"\n",
              "              style=\"display:none;\">\n",
              "        \n",
              "  <svg xmlns=\"http://www.w3.org/2000/svg\" height=\"24px\"viewBox=\"0 0 24 24\"\n",
              "       width=\"24px\">\n",
              "    <path d=\"M0 0h24v24H0V0z\" fill=\"none\"/>\n",
              "    <path d=\"M18.56 5.44l.94 2.06.94-2.06 2.06-.94-2.06-.94-.94-2.06-.94 2.06-2.06.94zm-11 1L8.5 8.5l.94-2.06 2.06-.94-2.06-.94L8.5 2.5l-.94 2.06-2.06.94zm10 10l.94 2.06.94-2.06 2.06-.94-2.06-.94-.94-2.06-.94 2.06-2.06.94z\"/><path d=\"M17.41 7.96l-1.37-1.37c-.4-.4-.92-.59-1.43-.59-.52 0-1.04.2-1.43.59L10.3 9.45l-7.72 7.72c-.78.78-.78 2.05 0 2.83L4 21.41c.39.39.9.59 1.41.59.51 0 1.02-.2 1.41-.59l7.78-7.78 2.81-2.81c.8-.78.8-2.07 0-2.86zM5.41 20L4 18.59l7.72-7.72 1.47 1.35L5.41 20z\"/>\n",
              "  </svg>\n",
              "      </button>\n",
              "      \n",
              "  <style>\n",
              "    .colab-df-container {\n",
              "      display:flex;\n",
              "      flex-wrap:wrap;\n",
              "      gap: 12px;\n",
              "    }\n",
              "\n",
              "    .colab-df-convert {\n",
              "      background-color: #E8F0FE;\n",
              "      border: none;\n",
              "      border-radius: 50%;\n",
              "      cursor: pointer;\n",
              "      display: none;\n",
              "      fill: #1967D2;\n",
              "      height: 32px;\n",
              "      padding: 0 0 0 0;\n",
              "      width: 32px;\n",
              "    }\n",
              "\n",
              "    .colab-df-convert:hover {\n",
              "      background-color: #E2EBFA;\n",
              "      box-shadow: 0px 1px 2px rgba(60, 64, 67, 0.3), 0px 1px 3px 1px rgba(60, 64, 67, 0.15);\n",
              "      fill: #174EA6;\n",
              "    }\n",
              "\n",
              "    [theme=dark] .colab-df-convert {\n",
              "      background-color: #3B4455;\n",
              "      fill: #D2E3FC;\n",
              "    }\n",
              "\n",
              "    [theme=dark] .colab-df-convert:hover {\n",
              "      background-color: #434B5C;\n",
              "      box-shadow: 0px 1px 3px 1px rgba(0, 0, 0, 0.15);\n",
              "      filter: drop-shadow(0px 1px 2px rgba(0, 0, 0, 0.3));\n",
              "      fill: #FFFFFF;\n",
              "    }\n",
              "  </style>\n",
              "\n",
              "      <script>\n",
              "        const buttonEl =\n",
              "          document.querySelector('#df-c580ff5a-6eb8-4171-b2db-625119df81fa button.colab-df-convert');\n",
              "        buttonEl.style.display =\n",
              "          google.colab.kernel.accessAllowed ? 'block' : 'none';\n",
              "\n",
              "        async function convertToInteractive(key) {\n",
              "          const element = document.querySelector('#df-c580ff5a-6eb8-4171-b2db-625119df81fa');\n",
              "          const dataTable =\n",
              "            await google.colab.kernel.invokeFunction('convertToInteractive',\n",
              "                                                     [key], {});\n",
              "          if (!dataTable) return;\n",
              "\n",
              "          const docLinkHtml = 'Like what you see? Visit the ' +\n",
              "            '<a target=\"_blank\" href=https://colab.research.google.com/notebooks/data_table.ipynb>data table notebook</a>'\n",
              "            + ' to learn more about interactive tables.';\n",
              "          element.innerHTML = '';\n",
              "          dataTable['output_type'] = 'display_data';\n",
              "          await google.colab.output.renderOutput(dataTable, element);\n",
              "          const docLink = document.createElement('div');\n",
              "          docLink.innerHTML = docLinkHtml;\n",
              "          element.appendChild(docLink);\n",
              "        }\n",
              "      </script>\n",
              "    </div>\n",
              "  </div>\n",
              "  "
            ]
          },
          "metadata": {},
          "execution_count": 12
        }
      ]
    },
    {
      "cell_type": "code",
      "source": [
        "data.shape"
      ],
      "metadata": {
        "colab": {
          "base_uri": "https://localhost:8080/"
        },
        "id": "JBHzWLLkpyCm",
        "outputId": "47da9aba-5c17-44a1-b827-dfac232448ec"
      },
      "execution_count": null,
      "outputs": [
        {
          "output_type": "execute_result",
          "data": {
            "text/plain": [
              "(5672, 2)"
            ]
          },
          "metadata": {},
          "execution_count": 13
        }
      ]
    },
    {
      "cell_type": "markdown",
      "source": [
        "# PREPROCESSING"
      ],
      "metadata": {
        "id": "RRtyJlqmj-DE"
      }
    },
    {
      "cell_type": "code",
      "source": [
        "def clean_message(message):\n",
        "    '''\n",
        "    Input:\n",
        "        message: a string containing a message.\n",
        "    Output:\n",
        "        messages_cleaned: a list of words containing the processed message. \n",
        "\n",
        "    '''\n",
        "\n",
        "    #Remove emails\n",
        "    messages_cleaned = re.sub(r'\\S+@\\S+','',message)\n",
        "\n",
        "    #Remove Punctuation\n",
        "    messages_cleaned = re.sub(r'[^\\w\\s]', '', messages_cleaned)\n",
        "    \n",
        "    #Remove Links\n",
        "    messages_cleaned = re.sub(r'https?://\\S+', '', messages_cleaned)\n",
        "\n",
        "    #Removing alphanumeric\n",
        "    messages_cleaned =re.sub( r'([a-zA-Z]*\\d+[a-zA-Z]+|[a-zA-Z]+\\d+[a-zA-Z]*)','',messages_cleaned) \n",
        "\n",
        "    #Removing number with text:\n",
        "    messages_cleaned = re.sub(r'\\d+', '', messages_cleaned)\n",
        "\n",
        "    #Removing stand alone numbers:\n",
        "    messages_cleaned = re.sub(r'[0-9]', '', messages_cleaned)\n",
        "\n",
        "    #Lower Case\n",
        "    messages_cleaned = messages_cleaned.lower()\n",
        "    \n",
        "    #Tokenize\n",
        "    messages_cleaned = word_tokenize(messages_cleaned)\n",
        "    \n",
        "    #Remove Stopwords\n",
        "    stop_words_list = stopwords.words('english')\n",
        "    for token in messages_cleaned:\n",
        "        if token in stop_words_list:\n",
        "            messages_cleaned.remove(token)\n",
        "    # cl=\"\"\n",
        "    # for i in messages_cleaned:\n",
        "    #   cl=cl+\" \"+i\n",
        "    return ' '.join(messages_cleaned)"
      ],
      "metadata": {
        "id": "lr-gNCFXj-mG"
      },
      "execution_count": null,
      "outputs": []
    },
    {
      "cell_type": "code",
      "source": [
        "clean_data = data.copy(deep=True)"
      ],
      "metadata": {
        "id": "FybYzs8SlF15"
      },
      "execution_count": null,
      "outputs": []
    },
    {
      "cell_type": "code",
      "source": [
        "clean_data['Text_content'] = clean_data['Text_content'].apply(clean_message)"
      ],
      "metadata": {
        "id": "5t8Df5bgk8Yb"
      },
      "execution_count": null,
      "outputs": []
    },
    {
      "cell_type": "code",
      "source": [
        "clean_data.head()"
      ],
      "metadata": {
        "colab": {
          "base_uri": "https://localhost:8080/",
          "height": 206
        },
        "id": "1Y9g-meHlQCg",
        "outputId": "38cc5852-d4c9-4ae3-eb1d-724067f89078"
      },
      "execution_count": null,
      "outputs": [
        {
          "output_type": "execute_result",
          "data": {
            "text/plain": [
              "   index                                       Text_content\n",
              "0      0  tim russell subject once tapped code good orga...\n",
              "1      1  lynn r grant subject another key registration ...\n",
              "2      2  brian mcbee subject can clipper stay classifie...\n",
              "3      3  jerry han subject overreacting re tapped code ...\n",
              "4      4  james r ebright subject shelf cheap des keysea..."
            ],
            "text/html": [
              "\n",
              "  <div id=\"df-30ca5c18-7196-4d31-b0a7-642b08d9545d\">\n",
              "    <div class=\"colab-df-container\">\n",
              "      <div>\n",
              "<style scoped>\n",
              "    .dataframe tbody tr th:only-of-type {\n",
              "        vertical-align: middle;\n",
              "    }\n",
              "\n",
              "    .dataframe tbody tr th {\n",
              "        vertical-align: top;\n",
              "    }\n",
              "\n",
              "    .dataframe thead th {\n",
              "        text-align: right;\n",
              "    }\n",
              "</style>\n",
              "<table border=\"1\" class=\"dataframe\">\n",
              "  <thead>\n",
              "    <tr style=\"text-align: right;\">\n",
              "      <th></th>\n",
              "      <th>index</th>\n",
              "      <th>Text_content</th>\n",
              "    </tr>\n",
              "  </thead>\n",
              "  <tbody>\n",
              "    <tr>\n",
              "      <th>0</th>\n",
              "      <td>0</td>\n",
              "      <td>tim russell subject once tapped code good orga...</td>\n",
              "    </tr>\n",
              "    <tr>\n",
              "      <th>1</th>\n",
              "      <td>1</td>\n",
              "      <td>lynn r grant subject another key registration ...</td>\n",
              "    </tr>\n",
              "    <tr>\n",
              "      <th>2</th>\n",
              "      <td>2</td>\n",
              "      <td>brian mcbee subject can clipper stay classifie...</td>\n",
              "    </tr>\n",
              "    <tr>\n",
              "      <th>3</th>\n",
              "      <td>3</td>\n",
              "      <td>jerry han subject overreacting re tapped code ...</td>\n",
              "    </tr>\n",
              "    <tr>\n",
              "      <th>4</th>\n",
              "      <td>4</td>\n",
              "      <td>james r ebright subject shelf cheap des keysea...</td>\n",
              "    </tr>\n",
              "  </tbody>\n",
              "</table>\n",
              "</div>\n",
              "      <button class=\"colab-df-convert\" onclick=\"convertToInteractive('df-30ca5c18-7196-4d31-b0a7-642b08d9545d')\"\n",
              "              title=\"Convert this dataframe to an interactive table.\"\n",
              "              style=\"display:none;\">\n",
              "        \n",
              "  <svg xmlns=\"http://www.w3.org/2000/svg\" height=\"24px\"viewBox=\"0 0 24 24\"\n",
              "       width=\"24px\">\n",
              "    <path d=\"M0 0h24v24H0V0z\" fill=\"none\"/>\n",
              "    <path d=\"M18.56 5.44l.94 2.06.94-2.06 2.06-.94-2.06-.94-.94-2.06-.94 2.06-2.06.94zm-11 1L8.5 8.5l.94-2.06 2.06-.94-2.06-.94L8.5 2.5l-.94 2.06-2.06.94zm10 10l.94 2.06.94-2.06 2.06-.94-2.06-.94-.94-2.06-.94 2.06-2.06.94z\"/><path d=\"M17.41 7.96l-1.37-1.37c-.4-.4-.92-.59-1.43-.59-.52 0-1.04.2-1.43.59L10.3 9.45l-7.72 7.72c-.78.78-.78 2.05 0 2.83L4 21.41c.39.39.9.59 1.41.59.51 0 1.02-.2 1.41-.59l7.78-7.78 2.81-2.81c.8-.78.8-2.07 0-2.86zM5.41 20L4 18.59l7.72-7.72 1.47 1.35L5.41 20z\"/>\n",
              "  </svg>\n",
              "      </button>\n",
              "      \n",
              "  <style>\n",
              "    .colab-df-container {\n",
              "      display:flex;\n",
              "      flex-wrap:wrap;\n",
              "      gap: 12px;\n",
              "    }\n",
              "\n",
              "    .colab-df-convert {\n",
              "      background-color: #E8F0FE;\n",
              "      border: none;\n",
              "      border-radius: 50%;\n",
              "      cursor: pointer;\n",
              "      display: none;\n",
              "      fill: #1967D2;\n",
              "      height: 32px;\n",
              "      padding: 0 0 0 0;\n",
              "      width: 32px;\n",
              "    }\n",
              "\n",
              "    .colab-df-convert:hover {\n",
              "      background-color: #E2EBFA;\n",
              "      box-shadow: 0px 1px 2px rgba(60, 64, 67, 0.3), 0px 1px 3px 1px rgba(60, 64, 67, 0.15);\n",
              "      fill: #174EA6;\n",
              "    }\n",
              "\n",
              "    [theme=dark] .colab-df-convert {\n",
              "      background-color: #3B4455;\n",
              "      fill: #D2E3FC;\n",
              "    }\n",
              "\n",
              "    [theme=dark] .colab-df-convert:hover {\n",
              "      background-color: #434B5C;\n",
              "      box-shadow: 0px 1px 3px 1px rgba(0, 0, 0, 0.15);\n",
              "      filter: drop-shadow(0px 1px 2px rgba(0, 0, 0, 0.3));\n",
              "      fill: #FFFFFF;\n",
              "    }\n",
              "  </style>\n",
              "\n",
              "      <script>\n",
              "        const buttonEl =\n",
              "          document.querySelector('#df-30ca5c18-7196-4d31-b0a7-642b08d9545d button.colab-df-convert');\n",
              "        buttonEl.style.display =\n",
              "          google.colab.kernel.accessAllowed ? 'block' : 'none';\n",
              "\n",
              "        async function convertToInteractive(key) {\n",
              "          const element = document.querySelector('#df-30ca5c18-7196-4d31-b0a7-642b08d9545d');\n",
              "          const dataTable =\n",
              "            await google.colab.kernel.invokeFunction('convertToInteractive',\n",
              "                                                     [key], {});\n",
              "          if (!dataTable) return;\n",
              "\n",
              "          const docLinkHtml = 'Like what you see? Visit the ' +\n",
              "            '<a target=\"_blank\" href=https://colab.research.google.com/notebooks/data_table.ipynb>data table notebook</a>'\n",
              "            + ' to learn more about interactive tables.';\n",
              "          element.innerHTML = '';\n",
              "          dataTable['output_type'] = 'display_data';\n",
              "          await google.colab.output.renderOutput(dataTable, element);\n",
              "          const docLink = document.createElement('div');\n",
              "          docLink.innerHTML = docLinkHtml;\n",
              "          element.appendChild(docLink);\n",
              "        }\n",
              "      </script>\n",
              "    </div>\n",
              "  </div>\n",
              "  "
            ]
          },
          "metadata": {},
          "execution_count": 26
        }
      ]
    },
    {
      "cell_type": "code",
      "source": [
        "nlp = en_core_web_sm.load(disable=['parser', 'ner'])\n",
        "def lemmatization(texts,allowed_postags=['NOUN', 'ADJ']): \n",
        "       output = []\n",
        "       for sent in texts:\n",
        "             doc = nlp(sent) \n",
        "             output.append([token.lemma_ for token in doc if token.pos_ in allowed_postags ])\n",
        "       return output"
      ],
      "metadata": {
        "id": "DksLPIwZqs8O"
      },
      "execution_count": null,
      "outputs": []
    },
    {
      "cell_type": "code",
      "source": [
        "text_list=clean_data['Text_content'].tolist()\n",
        "print(text_list[1])\n",
        "clean_data['Text_content'] = lemmatization(text_list)"
      ],
      "metadata": {
        "colab": {
          "base_uri": "https://localhost:8080/"
        },
        "id": "On3PABNLqtsb",
        "outputId": "36741693-2a35-4bff-9061-3327c0659118"
      },
      "execution_count": null,
      "outputs": [
        {
          "output_type": "stream",
          "name": "stdout",
          "text": [
            "lynn r grant subject another key registration body bites dust imho organization yale cs mailnews gateway lines one candidates has suggested key registration body aclu think poor choice aclu essentially group auditors audit peoples civil liberties administered traditionally auditors like get involved design operational aspects things with good reason systems programmer always infuriated auditors would come tell us implementation stunk security point view wouldnt tell us fix i always figured just liked critcize without work help fix problem i took stint an auditor i found real reason auditors dont like recommend solutions puts bad position criticize implementation later auditee say well told us way would ok compromises independence a necessary part auditors job taking case hand suppose aclu becomes a key half registrar suppose perhaps some error aclus part a key half gets away shouldnt used deprive someone her civil liberties aclu gets wind wants take court end being time the side the defendant the plaintiff is not an easy position there exceptions the complete independence auditors one place i worked payroll checks printed they signed automatically a signature drum the bursting machine this drum kept the auditors also kept the check stock brought data processing it was time do the checks i believe the difference this situation the key registration situation is that it is fairly obvious it is time to do the payroll checks they were done yesterday and someone wants to do again today better able to produce yesterdays checks that they can be destroyed determining of the many requests key halves legit is a trickier process one much prone to mistakes that could put the aclu in a protectingtheclient versus protectingtheaclu conflict of interest always opinions my lynn grant\n"
          ]
        }
      ]
    },
    {
      "cell_type": "code",
      "source": [
        "clean_data.head()"
      ],
      "metadata": {
        "colab": {
          "base_uri": "https://localhost:8080/",
          "height": 206
        },
        "id": "5zUplO6UxjDR",
        "outputId": "4cf2292e-35e9-4783-81e5-fb824f148a54"
      },
      "execution_count": null,
      "outputs": [
        {
          "output_type": "execute_result",
          "data": {
            "text/plain": [
              "   index                                       Text_content\n",
              "0      0  [distribution, line, quick, people, administra...\n",
              "1      1  [grant, key, registration, body, line, candida...\n",
              "2      2  [clipper, articleid, distribution, line, atlan...\n",
              "3      3  [re, code, nntppostinghost, debradgbtdocca, di...\n",
              "4      4  [subject, shelf, cheap, machine, corporate, ac..."
            ],
            "text/html": [
              "\n",
              "  <div id=\"df-52092dda-5602-4e44-ad15-a05c29eb67a1\">\n",
              "    <div class=\"colab-df-container\">\n",
              "      <div>\n",
              "<style scoped>\n",
              "    .dataframe tbody tr th:only-of-type {\n",
              "        vertical-align: middle;\n",
              "    }\n",
              "\n",
              "    .dataframe tbody tr th {\n",
              "        vertical-align: top;\n",
              "    }\n",
              "\n",
              "    .dataframe thead th {\n",
              "        text-align: right;\n",
              "    }\n",
              "</style>\n",
              "<table border=\"1\" class=\"dataframe\">\n",
              "  <thead>\n",
              "    <tr style=\"text-align: right;\">\n",
              "      <th></th>\n",
              "      <th>index</th>\n",
              "      <th>Text_content</th>\n",
              "    </tr>\n",
              "  </thead>\n",
              "  <tbody>\n",
              "    <tr>\n",
              "      <th>0</th>\n",
              "      <td>0</td>\n",
              "      <td>[distribution, line, quick, people, administra...</td>\n",
              "    </tr>\n",
              "    <tr>\n",
              "      <th>1</th>\n",
              "      <td>1</td>\n",
              "      <td>[grant, key, registration, body, line, candida...</td>\n",
              "    </tr>\n",
              "    <tr>\n",
              "      <th>2</th>\n",
              "      <td>2</td>\n",
              "      <td>[clipper, articleid, distribution, line, atlan...</td>\n",
              "    </tr>\n",
              "    <tr>\n",
              "      <th>3</th>\n",
              "      <td>3</td>\n",
              "      <td>[re, code, nntppostinghost, debradgbtdocca, di...</td>\n",
              "    </tr>\n",
              "    <tr>\n",
              "      <th>4</th>\n",
              "      <td>4</td>\n",
              "      <td>[subject, shelf, cheap, machine, corporate, ac...</td>\n",
              "    </tr>\n",
              "  </tbody>\n",
              "</table>\n",
              "</div>\n",
              "      <button class=\"colab-df-convert\" onclick=\"convertToInteractive('df-52092dda-5602-4e44-ad15-a05c29eb67a1')\"\n",
              "              title=\"Convert this dataframe to an interactive table.\"\n",
              "              style=\"display:none;\">\n",
              "        \n",
              "  <svg xmlns=\"http://www.w3.org/2000/svg\" height=\"24px\"viewBox=\"0 0 24 24\"\n",
              "       width=\"24px\">\n",
              "    <path d=\"M0 0h24v24H0V0z\" fill=\"none\"/>\n",
              "    <path d=\"M18.56 5.44l.94 2.06.94-2.06 2.06-.94-2.06-.94-.94-2.06-.94 2.06-2.06.94zm-11 1L8.5 8.5l.94-2.06 2.06-.94-2.06-.94L8.5 2.5l-.94 2.06-2.06.94zm10 10l.94 2.06.94-2.06 2.06-.94-2.06-.94-.94-2.06-.94 2.06-2.06.94z\"/><path d=\"M17.41 7.96l-1.37-1.37c-.4-.4-.92-.59-1.43-.59-.52 0-1.04.2-1.43.59L10.3 9.45l-7.72 7.72c-.78.78-.78 2.05 0 2.83L4 21.41c.39.39.9.59 1.41.59.51 0 1.02-.2 1.41-.59l7.78-7.78 2.81-2.81c.8-.78.8-2.07 0-2.86zM5.41 20L4 18.59l7.72-7.72 1.47 1.35L5.41 20z\"/>\n",
              "  </svg>\n",
              "      </button>\n",
              "      \n",
              "  <style>\n",
              "    .colab-df-container {\n",
              "      display:flex;\n",
              "      flex-wrap:wrap;\n",
              "      gap: 12px;\n",
              "    }\n",
              "\n",
              "    .colab-df-convert {\n",
              "      background-color: #E8F0FE;\n",
              "      border: none;\n",
              "      border-radius: 50%;\n",
              "      cursor: pointer;\n",
              "      display: none;\n",
              "      fill: #1967D2;\n",
              "      height: 32px;\n",
              "      padding: 0 0 0 0;\n",
              "      width: 32px;\n",
              "    }\n",
              "\n",
              "    .colab-df-convert:hover {\n",
              "      background-color: #E2EBFA;\n",
              "      box-shadow: 0px 1px 2px rgba(60, 64, 67, 0.3), 0px 1px 3px 1px rgba(60, 64, 67, 0.15);\n",
              "      fill: #174EA6;\n",
              "    }\n",
              "\n",
              "    [theme=dark] .colab-df-convert {\n",
              "      background-color: #3B4455;\n",
              "      fill: #D2E3FC;\n",
              "    }\n",
              "\n",
              "    [theme=dark] .colab-df-convert:hover {\n",
              "      background-color: #434B5C;\n",
              "      box-shadow: 0px 1px 3px 1px rgba(0, 0, 0, 0.15);\n",
              "      filter: drop-shadow(0px 1px 2px rgba(0, 0, 0, 0.3));\n",
              "      fill: #FFFFFF;\n",
              "    }\n",
              "  </style>\n",
              "\n",
              "      <script>\n",
              "        const buttonEl =\n",
              "          document.querySelector('#df-52092dda-5602-4e44-ad15-a05c29eb67a1 button.colab-df-convert');\n",
              "        buttonEl.style.display =\n",
              "          google.colab.kernel.accessAllowed ? 'block' : 'none';\n",
              "\n",
              "        async function convertToInteractive(key) {\n",
              "          const element = document.querySelector('#df-52092dda-5602-4e44-ad15-a05c29eb67a1');\n",
              "          const dataTable =\n",
              "            await google.colab.kernel.invokeFunction('convertToInteractive',\n",
              "                                                     [key], {});\n",
              "          if (!dataTable) return;\n",
              "\n",
              "          const docLinkHtml = 'Like what you see? Visit the ' +\n",
              "            '<a target=\"_blank\" href=https://colab.research.google.com/notebooks/data_table.ipynb>data table notebook</a>'\n",
              "            + ' to learn more about interactive tables.';\n",
              "          element.innerHTML = '';\n",
              "          dataTable['output_type'] = 'display_data';\n",
              "          await google.colab.output.renderOutput(dataTable, element);\n",
              "          const docLink = document.createElement('div');\n",
              "          docLink.innerHTML = docLinkHtml;\n",
              "          element.appendChild(docLink);\n",
              "        }\n",
              "      </script>\n",
              "    </div>\n",
              "  </div>\n",
              "  "
            ]
          },
          "metadata": {},
          "execution_count": 29
        }
      ]
    },
    {
      "cell_type": "markdown",
      "source": [
        "## LSA"
      ],
      "metadata": {
        "id": "STgydxqJCXJx"
      }
    },
    {
      "cell_type": "markdown",
      "source": [
        "### Counter vectorizer + SVD"
      ],
      "metadata": {
        "id": "OcVr4rA66Ix3"
      }
    },
    {
      "cell_type": "code",
      "source": [
        "clean_data['Text_content']"
      ],
      "metadata": {
        "colab": {
          "base_uri": "https://localhost:8080/"
        },
        "id": "SPgWEkr_0jDM",
        "outputId": "c8cd6e13-9047-460b-c14c-1cc940d2cd14"
      },
      "execution_count": null,
      "outputs": [
        {
          "output_type": "execute_result",
          "data": {
            "text/plain": [
              "0       [distribution, line, quick, people, administra...\n",
              "1       [grant, key, registration, body, line, candida...\n",
              "2       [clipper, articleid, distribution, line, atlan...\n",
              "3       [re, code, nntppostinghost, debradgbtdocca, di...\n",
              "4       [subject, shelf, cheap, machine, corporate, ac...\n",
              "                              ...                        \n",
              "5667    [mane, gun, control, distribution, version, li...\n",
              "5668    [line, article, article, ticket, veep, duke, t...\n",
              "5669    [line, distribution, article, harmful, gassing...\n",
              "5670    [subject, friend, period, background, check, p...\n",
              "5671    [thank, nntppostinghost, line, good, job, arti...\n",
              "Name: Text_content, Length: 5672, dtype: object"
            ]
          },
          "metadata": {},
          "execution_count": 31
        }
      ]
    },
    {
      "cell_type": "code",
      "source": [
        "from sklearn.feature_extraction.text import CountVectorizer\n",
        "\n",
        "list_text = text_list=clean_data['Text_content'].tolist()\n",
        "list_text = [' '.join(i) for i in list_text]\n",
        "vect = CountVectorizer(stop_words='english')\n",
        "vector_form = vect.fit_transform(list_text)\n",
        "vector_form.todense().shape"
      ],
      "metadata": {
        "colab": {
          "base_uri": "https://localhost:8080/"
        },
        "id": "_ot3kM7FCbAq",
        "outputId": "da8b7214-7afe-4b9c-abd2-ad838ec8ad7d"
      },
      "execution_count": null,
      "outputs": [
        {
          "output_type": "execute_result",
          "data": {
            "text/plain": [
              "(5672, 23107)"
            ]
          },
          "metadata": {},
          "execution_count": 32
        }
      ]
    },
    {
      "cell_type": "code",
      "source": [
        "dictionary = vect.get_feature_names()\n",
        "len(dictionary)"
      ],
      "metadata": {
        "colab": {
          "base_uri": "https://localhost:8080/"
        },
        "id": "nRfW7qDPm97d",
        "outputId": "8a84d576-0056-4e8f-97d4-858b1727f60f"
      },
      "execution_count": null,
      "outputs": [
        {
          "output_type": "execute_result",
          "data": {
            "text/plain": [
              "23107"
            ]
          },
          "metadata": {},
          "execution_count": 33
        }
      ]
    },
    {
      "cell_type": "code",
      "source": [
        "vector_form.shape"
      ],
      "metadata": {
        "colab": {
          "base_uri": "https://localhost:8080/"
        },
        "id": "Dj6la9mlArqb",
        "outputId": "3dae56c0-3825-4a49-c1a2-4f937db66b70"
      },
      "execution_count": null,
      "outputs": [
        {
          "output_type": "execute_result",
          "data": {
            "text/plain": [
              "(5672, 23107)"
            ]
          },
          "metadata": {},
          "execution_count": 34
        }
      ]
    },
    {
      "cell_type": "code",
      "source": [
        "from sklearn.decomposition import TruncatedSVD\n",
        "#Perform SVD\n",
        "def run_svd(vector_form,n_comp,start=1, stop=1000, step=50 ,n_iter=100,range_ = False):\n",
        "  variance_ratio_list = []\n",
        "  singular_values = []\n",
        "  if range_ :\n",
        "    for comp in range(start,stop,step):\n",
        "      print(\"Number of components = {}\".format(comp))\n",
        "      svd = TruncatedSVD(n_components=comp)\n",
        "      fit = svd.fit_transform(vector_form)\n",
        "      variance_ratio_list.append(svd.explained_variance_ratio_.sum())\n",
        "      singular_values.append(svd.singular_values_)\n",
        "      print(\"Completed!!\")\n",
        "    return variance_ratio_list,singular_values\n",
        "  else:\n",
        "    U, sigma, VT = randomized_svd(vector_form, \n",
        "                              n_components=n_comp,\n",
        "                              n_iter=n_iter,\n",
        "                              random_state=122)\n",
        "    svd = TruncatedSVD(n_components=n_comp,algorithm='randomized', n_iter=n_iter, random_state=122) # Taking 18 components because it explains almost 80% variance\n",
        "    fit = svd.fit_transform(vector_form)\n",
        "    return U,sigma,VT,svd.components_,svd"
      ],
      "metadata": {
        "id": "w-QSBqIlf2zh"
      },
      "execution_count": null,
      "outputs": []
    },
    {
      "cell_type": "code",
      "source": [
        "#Plot the variance curve\n",
        "def plot_variance_graph(vector_form,start=1, stop=1000, step=50,thresh = 0.8,range_value= False):\n",
        "    x = range(start,stop,step)\n",
        "    print(\"Calculating total variance for n_components in the range {} - {} with step size = {} .....\".format(start,stop,step))\n",
        "    variance_ratio_list,singular_values = run_svd(start = start,\n",
        "                                                    stop = stop,\n",
        "                                                    step = step,\n",
        "                                                    vector_form = vector_form,\n",
        "                                                    range_ = True if range_value else False)\n",
        "    print(\"Done!!!\")\n",
        "    print(\"Plotting the graph....\")\n",
        "    plt.plot(x, variance_ratio_list)\n",
        "    plt.xlabel(\"Number of components\")\n",
        "    plt.ylabel(\"Total Variance explained\")\n",
        "    plt.axhline(y=thresh, color='r', linestyle='-')\n",
        "    # plt.legend((\"total\"), loc='best')\n",
        "    plt.show()\n",
        "    return variance_ratio_list,singular_values"
      ],
      "metadata": {
        "id": "gEcjZo1GqhWi"
      },
      "execution_count": null,
      "outputs": []
    },
    {
      "cell_type": "code",
      "source": [
        "#Calculating variance\n",
        "variance_ratio_list,singular_values_list = plot_variance_graph(start=1,\n",
        "                                                               stop=1000, step=50,\n",
        "                                                               vector_form=vector_form,\n",
        "                                                               range_value = True)"
      ],
      "metadata": {
        "colab": {
          "base_uri": "https://localhost:8080/",
          "height": 1000
        },
        "id": "20ijOFC33HD6",
        "outputId": "09d1da2d-3aac-40c6-bfb7-468c3814b9e6"
      },
      "execution_count": null,
      "outputs": [
        {
          "output_type": "stream",
          "name": "stdout",
          "text": [
            "Calculating total variance for n_components in the range 1 - 1000 with step size = 50 .....\n",
            "Number of components = 1\n",
            "Completed!!\n",
            "Number of components = 51\n",
            "Completed!!\n",
            "Number of components = 101\n",
            "Completed!!\n",
            "Number of components = 151\n",
            "Completed!!\n",
            "Number of components = 201\n",
            "Completed!!\n",
            "Number of components = 251\n",
            "Completed!!\n",
            "Number of components = 301\n",
            "Completed!!\n",
            "Number of components = 351\n",
            "Completed!!\n",
            "Number of components = 401\n",
            "Completed!!\n",
            "Number of components = 451\n",
            "Completed!!\n",
            "Number of components = 501\n",
            "Completed!!\n",
            "Number of components = 551\n",
            "Completed!!\n",
            "Number of components = 601\n",
            "Completed!!\n",
            "Number of components = 651\n",
            "Completed!!\n",
            "Number of components = 701\n",
            "Completed!!\n",
            "Number of components = 751\n",
            "Completed!!\n",
            "Number of components = 801\n",
            "Completed!!\n",
            "Number of components = 851\n",
            "Completed!!\n",
            "Number of components = 901\n",
            "Completed!!\n",
            "Number of components = 951\n",
            "Completed!!\n",
            "Done!!!\n",
            "Plotting the graph....\n"
          ]
        },
        {
          "output_type": "display_data",
          "data": {
            "text/plain": [
              "<Figure size 432x288 with 1 Axes>"
            ],
            "image/png": "[encoded data removed]"
          },
          "metadata": {
            "needs_background": "light"
          }
        }
      ]
    },
    {
      "cell_type": "code",
      "source": [
        "print(len([[i for i in j if i>100.0] for j in singular_values_list][1]))"
      ],
      "metadata": {
        "colab": {
          "base_uri": "https://localhost:8080/"
        },
        "id": "uvAaSE-v9oJT",
        "outputId": "5d7cc1a8-6eac-4ff1-db34-73e1bd25e7bc"
      },
      "execution_count": null,
      "outputs": [
        {
          "output_type": "stream",
          "name": "stdout",
          "text": [
            "18\n"
          ]
        }
      ]
    },
    {
      "cell_type": "code",
      "source": [
        "print(len([[i for i in j if i>150.0] for j in singular_values_list][1]))"
      ],
      "metadata": {
        "colab": {
          "base_uri": "https://localhost:8080/"
        },
        "id": "-Q_0Ob7tcBg5",
        "outputId": "16fb0ec2-e7e2-4251-c63d-cdd52b01e799"
      },
      "execution_count": null,
      "outputs": [
        {
          "output_type": "stream",
          "name": "stdout",
          "text": [
            "7\n"
          ]
        }
      ]
    },
    {
      "cell_type": "markdown",
      "source": [
        "### From the above graph we can see that the optimal n_components value in somewhere between 200 and 400. Let's try on some values within the range"
      ],
      "metadata": {
        "id": "2yy3m6F3Ckvt"
      }
    },
    {
      "cell_type": "code",
      "source": [
        "\n",
        "def assign_topics(clean_data,U):\n",
        "  topics = [\"topic\"+str(i) for i in range(1,U.shape[1]+1)]\n",
        "  data = pd.DataFrame(U.T,index=topics) \n",
        "  return data"
      ],
      "metadata": {
        "id": "1RIn9W-P913V"
      },
      "execution_count": null,
      "outputs": []
    },
    {
      "cell_type": "code",
      "source": [
        "U,sigma,VT,comp,model7 = run_svd(vector_form = vector_form,\n",
        "                          n_comp = 7,\n",
        "                          range_ = False)"
      ],
      "metadata": {
        "id": "6TrFcUGbv1b1"
      },
      "execution_count": null,
      "outputs": []
    },
    {
      "cell_type": "code",
      "source": [
        "def get_topics(vect,components): \n",
        "  vocab = vect.get_feature_names()\n",
        "  topic_word_list = []\n",
        "  for i, comp in enumerate(components):\n",
        "    terms_comp = zip(vocab,comp)\n",
        "    sorted_terms = sorted(terms_comp, key= lambda x:x[1], reverse=True)[:7]\n",
        "    topic=\" \"\n",
        "    # print(sorted_terms)\n",
        "    for t in sorted_terms:\n",
        "      topic = topic + ' ' + t[0]\n",
        "    # print(topic)\n",
        "    topic_word_list.append(topic)\n",
        "  return topic_word_list"
      ],
      "metadata": {
        "id": "tr_hN-cjcm9R"
      },
      "execution_count": null,
      "outputs": []
    },
    {
      "cell_type": "code",
      "source": [
        "tp_word_list7 = get_topics(vect,comp)\n",
        "tp_word_list7"
      ],
      "metadata": {
        "colab": {
          "base_uri": "https://localhost:8080/"
        },
        "id": "78VK4nzQcyrQ",
        "outputId": "0d37e163-2914-43e1-958b-de1ceb96862f"
      },
      "execution_count": null,
      "outputs": [
        {
          "output_type": "execute_result",
          "data": {
            "text/plain": [
              "['  file image program available information user internet',\n",
              " '  image jpeg file format color version quality',\n",
              " '  file gun firearm control law weapon crime',\n",
              " '  drive disk hard controller gun file bio',\n",
              " '  launch space year satellite key time technology',\n",
              " '  launch space satellite service year anonymous market',\n",
              " '  launch satellite space file commercial technology market']"
            ]
          },
          "metadata": {},
          "execution_count": 78
        }
      ]
    },
    {
      "cell_type": "code",
      "source": [
        "U,sigma,VT,comp,model18 = run_svd(vector_form = vector_form,\n",
        "                          n_comp = 18,\n",
        "                          range_ = False)"
      ],
      "metadata": {
        "id": "CPmjSTDgcZV9"
      },
      "execution_count": null,
      "outputs": []
    },
    {
      "cell_type": "code",
      "source": [
        "tp_word_list18 = get_topics(vect,comp)\n",
        "tp_word_list18"
      ],
      "metadata": {
        "colab": {
          "base_uri": "https://localhost:8080/"
        },
        "id": "8MUPsDxecapV",
        "outputId": "099177f6-b9a2-449b-dc52-0c4a855114a7"
      },
      "execution_count": null,
      "outputs": [
        {
          "output_type": "execute_result",
          "data": {
            "text/plain": [
              "['  file image program available information user internet',\n",
              " '  image jpeg file format color version quality',\n",
              " '  file gun firearm control law weapon crime',\n",
              " '  drive disk hard controller gun file bio',\n",
              " '  launch space year satellite key time technology',\n",
              " '  launch space satellite service year anonymous market',\n",
              " '  launch satellite space file commercial technology market',\n",
              " '  jpeg people anonymous posting good quality gif',\n",
              " '  child use image law technology privacy year',\n",
              " '  image gun people right government tool weapon']"
            ]
          },
          "metadata": {},
          "execution_count": 84
        }
      ]
    },
    {
      "cell_type": "code",
      "source": [
        "U,sigma,VT,comp,model10 = run_svd(vector_form = vector_form,\n",
        "                          n_comp = 10,\n",
        "                          range_ = False)\n",
        "tp_word_list10 = get_topics(vect,comp)\n",
        "tp_word_list10"
      ],
      "metadata": {
        "colab": {
          "base_uri": "https://localhost:8080/"
        },
        "id": "d2f0iczGjBhw",
        "outputId": "8720f80b-8cd1-4426-9195-caed0c74ec90"
      },
      "execution_count": null,
      "outputs": [
        {
          "output_type": "execute_result",
          "data": {
            "text/plain": [
              "['  file image program available information user internet',\n",
              " '  image jpeg file format color version quality',\n",
              " '  file gun firearm control law weapon crime',\n",
              " '  drive disk hard controller gun file bio',\n",
              " '  launch space year satellite key time technology',\n",
              " '  launch space satellite service year anonymous market',\n",
              " '  launch satellite space file commercial technology market',\n",
              " '  jpeg people anonymous posting good quality gif',\n",
              " '  child use image law technology privacy year',\n",
              " '  image gun people right government tool weapon']"
            ]
          },
          "metadata": {},
          "execution_count": 89
        }
      ]
    },
    {
      "cell_type": "code",
      "source": [
        "def draw_word_cloud(topic_word_list,file_name,r=None):\n",
        "  topic_size = len(topic_word_list)\n",
        "  print(topic_size)\n",
        "  if not r:\n",
        "    r = int(topic_size/4)\n",
        "  fig, ax = plt.subplots(r+1,4,figsize=(25,25))\n",
        "  # plt.subplots_adjust(wspace=None, hspace=None)\n",
        "  fig.subplots_adjust(wspace=None,hspace=None)\n",
        "  print(\"R values: \",r)\n",
        "  if topic_size<4:\n",
        "    for i in range(topic_size):\n",
        "      wc = WordCloud(width=1000, height=600, margin=3,  prefer_horizontal=0.7,scale=1,background_color='black', relative_scaling=0).generate(topic_word_list[i])\n",
        "      # wc.recolor(color_func = black_color_func)\n",
        "      ax.imshow(wc, interpolation=\"bilinear\")\n",
        "      ax.title(f\"Topic{i+1}\")\n",
        "      ax.axis(\"off\")\n",
        "      ax.show()\n",
        "  # for i in range(topic_size):\n",
        "  #   wc = WordCloud(width=1000, height=600, margin=3,  prefer_horizontal=0.7,scale=1,background_color='black', relative_scaling=0).generate(topic_word_list[i])\n",
        "  #   # wc.recolor(color_func = black_color_func)\n",
        "  #   'ax'+str(i+1).imshow(wc, interpolation=\"bilinear\")\n",
        "  #   'ax'+str(i+1).title(f\"Topic{i+1}\")\n",
        "  #   'ax'+str(i+1).axis(\"off\")\n",
        "  #   'ax'+str(i+1).show()\n",
        "  else:\n",
        "    for i in range(1,r+2):\n",
        "      for j in range(1,5):\n",
        "        if (i-1)*4+j <= topic_size:\n",
        "          wc = WordCloud(width=1000, height=600, margin=3,  prefer_horizontal=0.7,scale=1,background_color='black', relative_scaling=0).generate(topic_word_list[(i-1)*4+j-1])\n",
        "          ax[i-1,j-1].imshow(wc)\n",
        "          ax[i-1,j-1].set_title(f\"Topic {(i-1)*4+j}\")\n",
        "          ax[i-1,j-1].axis(\"off\")\n",
        "          # ax[i, j].subplots_adjust(wspace=None,hspace=None)\n",
        "        else:\n",
        "          fig.delaxes(ax[i-1,j-1])\n",
        "  os.chdir(\"/content/\")\n",
        "  fig.tight_layout()\n",
        "  fig.savefig(file_name+'.jpg')"
      ],
      "metadata": {
        "id": "BwwmstlFd9s6"
      },
      "execution_count": null,
      "outputs": []
    },
    {
      "cell_type": "code",
      "source": [
        "draw_word_cloud(tp_word_list18,\"Countvect_LSA_wordcloud_18\")"
      ],
      "metadata": {
        "id": "myHoOgWEgEx1"
      },
      "execution_count": null,
      "outputs": []
    },
    {
      "cell_type": "code",
      "source": [
        "draw_word_cloud(tp_word_list7,\"Countvect_LSA_wordcloud_7\")"
      ],
      "metadata": {
        "id": "LKOwGGpeWwez"
      },
      "execution_count": null,
      "outputs": []
    },
    {
      "cell_type": "code",
      "source": [
        "draw_word_cloud(tp_word_list10,\"Countvect_LSA_wordcloud_10\")"
      ],
      "metadata": {
        "id": "qQ5s-H0rjJPI"
      },
      "execution_count": null,
      "outputs": []
    },
    {
      "cell_type": "code",
      "source": [
        "n_comp = 250"
      ],
      "metadata": {
        "id": "1MFb8mihiMlj"
      },
      "execution_count": null,
      "outputs": []
    },
    {
      "cell_type": "code",
      "source": [
        "vocab = np.array(vect.get_feature_names())"
      ],
      "metadata": {
        "id": "ozH6FeJnIM8g"
      },
      "execution_count": null,
      "outputs": []
    },
    {
      "cell_type": "code",
      "source": [
        "for i in (sorted(vocab.items(), key=lambda x:x[1])):\n",
        "  if i[0].isalnum():\n",
        "    print(i)"
      ],
      "metadata": {
        "id": "tgVGCyD7r86n"
      },
      "execution_count": null,
      "outputs": []
    },
    {
      "cell_type": "code",
      "source": [
        "num_top_words = 10\n",
        "\n",
        "def show_topics(a):\n",
        "    top_words = lambda t: [vocab[i] for i in np.argsort(t)[:-num_top_words-1:-1]]\n",
        "    topic_words = ([top_words(t) for t in a])\n",
        "    return [' '.join(t) for t in topic_words]"
      ],
      "metadata": {
        "id": "LEoboDEZHQKW"
      },
      "execution_count": null,
      "outputs": []
    },
    {
      "cell_type": "code",
      "source": [
        "model10.components_"
      ],
      "metadata": {
        "id": "yTaoqN4rHSLg",
        "colab": {
          "base_uri": "https://localhost:8080/"
        },
        "outputId": "c366e689-7123-4157-ddab-e0ac9fe586b0"
      },
      "execution_count": null,
      "outputs": [
        {
          "output_type": "execute_result",
          "data": {
            "text/plain": [
              "array([[ 1.26083726e-05,  1.43546619e-04,  5.61225862e-05, ...,\n",
              "         1.81174554e-06,  2.77386092e-06,  1.75751813e-06],\n",
              "       [-2.09871328e-05, -1.56558216e-04, -5.28481687e-05, ...,\n",
              "        -1.23652734e-06, -3.77337976e-06, -9.13204874e-07],\n",
              "       [ 7.12170897e-06, -1.32468212e-04, -7.31486353e-05, ...,\n",
              "        -2.19887548e-06, -4.19895387e-06, -8.05550344e-07],\n",
              "       ...,\n",
              "       [ 5.13741922e-05,  7.91141752e-04, -3.68992308e-04, ...,\n",
              "         8.94308764e-06,  1.29404531e-05, -6.05623689e-06],\n",
              "       [ 2.16444803e-06, -3.73788434e-04, -2.13185385e-05, ...,\n",
              "        -1.81700814e-05, -7.86396686e-06, -9.43384565e-06],\n",
              "       [ 7.25081019e-05, -3.96856755e-04, -3.01875483e-05, ...,\n",
              "         1.99637546e-06, -3.67893132e-06, -7.73136553e-06]])"
            ]
          },
          "metadata": {},
          "execution_count": 142
        }
      ]
    },
    {
      "cell_type": "code",
      "source": [
        "VT[:10].shape"
      ],
      "metadata": {
        "colab": {
          "base_uri": "https://localhost:8080/"
        },
        "id": "dGu3H_WKIBOf",
        "outputId": "1c42996c-bb0b-4ab0-9129-a8945748d8ef"
      },
      "execution_count": null,
      "outputs": [
        {
          "output_type": "execute_result",
          "data": {
            "text/plain": [
              "(7, 23107)"
            ]
          },
          "metadata": {},
          "execution_count": 145
        }
      ]
    },
    {
      "cell_type": "code",
      "source": [
        "# print(svd.components_.shape) # (no_of_topics*no_of_words)\n",
        "# # print(svd.components_)\n",
        "# print(svd.singular_values_.shape)\n",
        "# print(svd.feature_names_in_())"
      ],
      "metadata": {
        "id": "Hhg5TTFjYVJz"
      },
      "execution_count": null,
      "outputs": []
    },
    {
      "cell_type": "markdown",
      "source": [
        "Using Gensim Library"
      ],
      "metadata": {
        "id": "mcL5HJrjMfA1"
      }
    },
    {
      "cell_type": "code",
      "source": [
        "# Creating the term dictionary of our courpus, where every unique term is assigned an index. dictionary = corpora.Dictionary(doc_clean)\n",
        "dictionary = corpora.Dictionary(clean_data['Text_content'])\n",
        "\n",
        "# Converting list of documents (corpus) into Document Term Matrix using dictionary prepared above.\n",
        "doc_term_matrix = [dictionary.doc2bow(doc) for doc in clean_data['Text_content']]"
      ],
      "metadata": {
        "id": "6-RWgTiEMeZi"
      },
      "execution_count": null,
      "outputs": []
    },
    {
      "cell_type": "code",
      "source": [
        "len(np.array(doc_term_matrix))"
      ],
      "metadata": {
        "colab": {
          "base_uri": "https://localhost:8080/"
        },
        "id": "ok66KmZsFj4-",
        "outputId": "391b1378-cc53-495a-8ed6-090b622a342e"
      },
      "execution_count": null,
      "outputs": [
        {
          "output_type": "execute_result",
          "data": {
            "text/plain": [
              "5672"
            ]
          },
          "metadata": {},
          "execution_count": 281
        }
      ]
    },
    {
      "cell_type": "code",
      "source": [
        "len(dictionary)"
      ],
      "metadata": {
        "colab": {
          "base_uri": "https://localhost:8080/"
        },
        "id": "IE0DyLYfLBMy",
        "outputId": "cd199f09-289e-47c2-f64e-7285544008d7"
      },
      "execution_count": null,
      "outputs": [
        {
          "output_type": "execute_result",
          "data": {
            "text/plain": [
              "23276"
            ]
          },
          "metadata": {},
          "execution_count": 267
        }
      ]
    },
    {
      "cell_type": "code",
      "source": [
        "lsamodel = LsiModel(doc_term_matrix, id2word = dictionary)  # train model\n",
        "# print(lsamodel.print_topics(num_words=words))"
      ],
      "metadata": {
        "id": "jW0z64YtJkf1"
      },
      "execution_count": null,
      "outputs": []
    },
    {
      "cell_type": "code",
      "source": [
        "lsamodel.get_topics().shape"
      ],
      "metadata": {
        "colab": {
          "base_uri": "https://localhost:8080/"
        },
        "id": "P2NsyNttMycq",
        "outputId": "684d0d30-6d5e-47bb-97f4-f4bfb66839e4"
      },
      "execution_count": null,
      "outputs": [
        {
          "output_type": "execute_result",
          "data": {
            "text/plain": [
              "(200, 23276)"
            ]
          },
          "metadata": {},
          "execution_count": 269
        }
      ]
    },
    {
      "cell_type": "code",
      "source": [
        "len(doc_term_matrix)"
      ],
      "metadata": {
        "id": "CYFWPfobiMdp",
        "colab": {
          "base_uri": "https://localhost:8080/"
        },
        "outputId": "26941074-696c-44a1-9c8e-1649c4133ca2"
      },
      "execution_count": null,
      "outputs": [
        {
          "output_type": "execute_result",
          "data": {
            "text/plain": [
              "5672"
            ]
          },
          "metadata": {},
          "execution_count": 270
        }
      ]
    },
    {
      "cell_type": "code",
      "source": [
        "def calc_coherence(dictionary,texts,doc_term_matrix,num_topics_list):\n",
        "  coh_value_dict = {}\n",
        "  for num_topics in num_topics_list:\n",
        "    lsamodel = LsiModel(doc_term_matrix,num_topics=num_topics, id2word = dictionary)\n",
        "    coherencemodel = CoherenceModel(model=lsamodel, texts=texts, dictionary=dictionary , coherence='c_v') \n",
        "    coh_value_dict[lsamodel] = coherencemodel.get_coherence()\n",
        "  \n",
        "  return coh_value_dict"
      ],
      "metadata": {
        "id": "vPbdV5GXOD5E"
      },
      "execution_count": null,
      "outputs": []
    },
    {
      "cell_type": "code",
      "source": [
        "clean_docs = clean_data['Text_content'].tolist()"
      ],
      "metadata": {
        "id": "ag459MyBLs9T"
      },
      "execution_count": null,
      "outputs": []
    },
    {
      "cell_type": "code",
      "source": [
        "#Number of topics\n",
        "num_topics_list = [2,4,6,8,10,14,18,20,25,30]"
      ],
      "metadata": {
        "id": "8h81E32IQTof"
      },
      "execution_count": null,
      "outputs": []
    },
    {
      "cell_type": "code",
      "source": [
        "coh_value_dict = calc_coherence(dictionary,clean_docs,doc_term_matrix,num_topics_list)"
      ],
      "metadata": {
        "id": "YpZ6GXM-PtuQ"
      },
      "execution_count": null,
      "outputs": []
    },
    {
      "cell_type": "code",
      "source": [
        "coh_value_dict"
      ],
      "metadata": {
        "colab": {
          "base_uri": "https://localhost:8080/"
        },
        "id": "-tb-dcjfKt9U",
        "outputId": "2fb8775e-744a-4067-b0cd-d9b492f90686"
      },
      "execution_count": null,
      "outputs": [
        {
          "output_type": "execute_result",
          "data": {
            "text/plain": [
              "{<gensim.models.lsimodel.LsiModel at 0x7f038fc15890>: 0.5310456442986323,\n",
              " <gensim.models.lsimodel.LsiModel at 0x7f038fb805d0>: 0.4491992160384664,\n",
              " <gensim.models.lsimodel.LsiModel at 0x7f0440dd2f50>: 0.4027421165754269,\n",
              " <gensim.models.lsimodel.LsiModel at 0x7f04405fd610>: 0.6778752904473255,\n",
              " <gensim.models.lsimodel.LsiModel at 0x7f0399aa1e10>: 0.40100603713562527,\n",
              " <gensim.models.lsimodel.LsiModel at 0x7f0398a83ed0>: 0.34780266736068866,\n",
              " <gensim.models.lsimodel.LsiModel at 0x7f0399b20a90>: 0.3653766580147611,\n",
              " <gensim.models.lsimodel.LsiModel at 0x7f03901f2ed0>: 0.6680743181179797,\n",
              " <gensim.models.lsimodel.LsiModel at 0x7f04408da610>: 0.6653618261190752,\n",
              " <gensim.models.lsimodel.LsiModel at 0x7f0390067650>: 0.4964011196198129}"
            ]
          },
          "metadata": {},
          "execution_count": 282
        }
      ]
    },
    {
      "cell_type": "code",
      "source": [
        "#Fucntion for plotting coherence plot\n",
        "def plot_coherence_graph(num_topics_list,coh_values):\n",
        "  x = num_topics_list\n",
        "  plt.plot(x, coh_values)\n",
        "  plt.xlabel(\"Number of Topics\")\n",
        "  plt.ylabel(\"Coherence score\")\n",
        "  plt.legend((\"coherence_values\"), loc='best')\n",
        "  plt.show()\n",
        "  return dict(zip(num_topics_list,coh_values))"
      ],
      "metadata": {
        "id": "H-KWzCDGQMPE"
      },
      "execution_count": null,
      "outputs": []
    },
    {
      "cell_type": "code",
      "source": [
        "coh_value_zip = plot_coherence_graph(num_topics_list,list(coh_value_dict.values()))"
      ],
      "metadata": {
        "colab": {
          "base_uri": "https://localhost:8080/",
          "height": 279
        },
        "id": "MCnyZzGDR8Ej",
        "outputId": "a5cfe43a-b7b5-402e-e219-e7843d1c2fe1"
      },
      "execution_count": null,
      "outputs": [
        {
          "output_type": "display_data",
          "data": {
            "text/plain": [
              "<Figure size 432x288 with 1 Axes>"
            ],
            "image/png": "[encoded data removed]"
          },
          "metadata": {
            "needs_background": "light"
          }
        }
      ]
    },
    {
      "cell_type": "code",
      "source": [
        "coh_value_zip"
      ],
      "metadata": {
        "colab": {
          "base_uri": "https://localhost:8080/"
        },
        "id": "DhbcMdpVTq0D",
        "outputId": "4445bfc9-1b8c-4ff2-ec08-b1ce2ffd7632"
      },
      "execution_count": null,
      "outputs": [
        {
          "output_type": "execute_result",
          "data": {
            "text/plain": [
              "{2: 0.4322877426660516,\n",
              " 4: 0.5705804989543432,\n",
              " 6: 0.3734875501247334,\n",
              " 8: 0.42857714989708356,\n",
              " 10: 0.39701640732232246,\n",
              " 14: 0.35020316765878795,\n",
              " 18: 0.3990298938596078,\n",
              " 20: 0.38122285222812696,\n",
              " 25: 0.3644434913470846,\n",
              " 30: 0.35835160402008975}"
            ]
          },
          "metadata": {},
          "execution_count": 198
        }
      ]
    },
    {
      "cell_type": "code",
      "source": [
        "max_coh_num_topics = max(coh_value_zip, key=coh_value_zip.get)\n",
        "max_coh_num_model = max(coh_value_dict, key=coh_value_dict.get)"
      ],
      "metadata": {
        "id": "LeW8xTYkRGvm"
      },
      "execution_count": null,
      "outputs": []
    },
    {
      "cell_type": "code",
      "source": [
        "#Printing Topic and terms\n",
        "for i in max_coh_num_model.print_topics(num_topics=max_coh_num_topics, num_words=10):\n",
        "  print(\"Topic :\", i)"
      ],
      "metadata": {
        "colab": {
          "base_uri": "https://localhost:8080/"
        },
        "id": "uDkn71XfSANu",
        "outputId": "a45a574b-1063-4be2-f40a-dbd786b66fc9"
      },
      "execution_count": null,
      "outputs": [
        {
          "output_type": "stream",
          "name": "stdout",
          "text": [
            "Topic : (0, '0.431*\"image\" + 0.426*\"file\" + 0.163*\"system\" + 0.158*\"program\" + 0.148*\"jpeg\" + 0.142*\"available\" + 0.137*\"format\" + 0.129*\"version\" + 0.121*\"other\" + 0.114*\"software\"')\n",
            "Topic : (1, '-0.384*\"wire\" + 0.307*\"file\" + 0.291*\"image\" + -0.222*\"wiring\" + -0.193*\"outlet\" + -0.190*\"circuit\" + -0.155*\"ground\" + -0.139*\"neutral\" + -0.128*\"subject\" + 0.125*\"jpeg\"')\n",
            "Topic : (2, '-0.441*\"file\" + 0.351*\"drive\" + 0.299*\"disk\" + 0.277*\"system\" + -0.264*\"gun\" + 0.198*\"hard\" + 0.175*\"controller\" + 0.171*\"image\" + 0.153*\"bio\" + -0.139*\"firearm\"')\n",
            "Topic : (3, '-0.405*\"image\" + 0.301*\"gun\" + 0.280*\"file\" + 0.254*\"drive\" + -0.209*\"wire\" + 0.194*\"disk\" + 0.144*\"firearm\" + 0.141*\"hard\" + 0.130*\"system\" + -0.126*\"jpeg\"')\n"
          ]
        }
      ]
    },
    {
      "cell_type": "markdown",
      "source": [
        "### TFIDF + LSA (Gensim)"
      ],
      "metadata": {
        "id": "yU_tEupTUhyt"
      }
    },
    {
      "cell_type": "code",
      "source": [
        "from gensim import models\n",
        "#We have attached wordclouds to report.\n",
        "# Creating the term dictionary of our courpus, where every unique term is assigned an index. dictionary = corpora.Dictionary(doc_clean)\n",
        "dictionary = corpora.Dictionary(clean_data['Text_content'])\n",
        "\n",
        "# Converting list of documents (corpus) into Document Term Matrix using dictionary prepared above.\n",
        "# doc_term_matrix = [dictionary.doc2bow(doc) for doc in clean_data['Text_content']]\n",
        "# print(len(doc_term_matrix))\n",
        "# tfidf = models.TfidfModel(doc_term_matrix)\n",
        "# corpus_tfidf = tfidf[doc_term_matrix]\n",
        "# print(corpus_tfidf)\n",
        "# from sklearn.feature_extraction.text import TfidfVectorizer\n",
        "# vectorizer = TfidfVectorizer()\n",
        "# clean_docs = clean_data['Text_content'].tolist()\n",
        "# clean_docs = [' '.join(i) for i in clean_docs]\n",
        "# corpus_tfidf = vectorizer.fit_transform(clean_docs)\n",
        "# print((corpus_tfidf).shape)\n"
      ],
      "metadata": {
        "id": "iLfdhXmvNmCH"
      },
      "execution_count": null,
      "outputs": []
    },
    {
      "cell_type": "code",
      "source": [
        "tfidf = models.TfidfModel(dictionary=dictionary, normalize = True)\n",
        "doc_term_matrix = [dictionary.doc2bow(doc) for doc in clean_data['Text_content']]\n",
        "corpus_tfidf = tfidf[doc_term_matrix]"
      ],
      "metadata": {
        "id": "LR_tfzm5KaxU"
      },
      "execution_count": null,
      "outputs": []
    },
    {
      "cell_type": "code",
      "source": [
        "len(corpus_tfidf)"
      ],
      "metadata": {
        "colab": {
          "base_uri": "https://localhost:8080/"
        },
        "id": "ze2pa8ADJWNy",
        "outputId": "49bd03f5-9f91-4316-d209-ebd3985b8d7b"
      },
      "execution_count": null,
      "outputs": [
        {
          "output_type": "execute_result",
          "data": {
            "text/plain": [
              "5672"
            ]
          },
          "metadata": {},
          "execution_count": 102
        }
      ]
    },
    {
      "cell_type": "code",
      "source": [
        "(doc_term_matrix[0])"
      ],
      "metadata": {
        "id": "z-nSibAnJl_s",
        "colab": {
          "base_uri": "https://localhost:8080/"
        },
        "outputId": "1ffa07b5-2821-4dea-e143-4e6d3396cc86"
      },
      "execution_count": null,
      "outputs": [
        {
          "output_type": "execute_result",
          "data": {
            "text/plain": [
              "[(0, 2),\n",
              " (1, 1),\n",
              " (2, 1),\n",
              " (3, 1),\n",
              " (4, 1),\n",
              " (5, 1),\n",
              " (6, 1),\n",
              " (7, 1),\n",
              " (8, 1),\n",
              " (9, 1),\n",
              " (10, 1),\n",
              " (11, 1),\n",
              " (12, 1),\n",
              " (13, 1),\n",
              " (14, 1),\n",
              " (15, 1),\n",
              " (16, 1),\n",
              " (17, 1),\n",
              " (18, 1),\n",
              " (19, 1),\n",
              " (20, 1),\n",
              " (21, 1),\n",
              " (22, 1),\n",
              " (23, 1),\n",
              " (24, 1),\n",
              " (25, 1),\n",
              " (26, 2)]"
            ]
          },
          "metadata": {},
          "execution_count": 103
        }
      ]
    },
    {
      "cell_type": "code",
      "source": [
        "clean_docs = clean_data['Text_content'].tolist()\n",
        "# lsamodel = LsiModel(vectorized_input, id2word = dictionary) \n",
        "lsamodel = LsiModel(corpus_tfidf,id2word = dictionary)\n",
        "coherencemodel = CoherenceModel(model=lsamodel, texts=clean_docs, dictionary=dictionary , coherence='c_v') \n",
        "print(coherencemodel.get_coherence())"
      ],
      "metadata": {
        "colab": {
          "base_uri": "https://localhost:8080/"
        },
        "id": "RQs1XdDCN39z",
        "outputId": "5befab61-173e-4ff1-f874-fa2b7a6f49ab"
      },
      "execution_count": null,
      "outputs": [
        {
          "output_type": "stream",
          "name": "stdout",
          "text": [
            "0.3450448646548662\n"
          ]
        }
      ]
    },
    {
      "cell_type": "code",
      "source": [
        "np.array(lsamodel.__getitem__(doc_term_matrix))"
      ],
      "metadata": {
        "colab": {
          "base_uri": "https://localhost:8080/"
        },
        "id": "w7DHVywWL8sU",
        "outputId": "971214ea-229e-4a11-8926-0c810beeee12"
      },
      "execution_count": null,
      "outputs": [
        {
          "output_type": "execute_result",
          "data": {
            "text/plain": [
              "array([list([(0, 1.4208881546399872), (1, -0.2523886965534837), (2, -0.3871456355464322), (3, -0.23467935137221943), (4, 0.21767357383330266), (5, -0.024998799655502286), (6, 0.10156388068798977), (7, 0.3854715998002135), (8, 0.08903052503122608), (9, 0.3084580765619002), (10, -0.14402733973825196), (11, -0.2231912680808793), (12, 0.01614388665183887), (13, -0.41769656627094026), (14, 0.07773629227909787), (15, 0.34895582061650265), (16, 0.08493763049016893), (17, 0.45356118409881263), (18, 0.10296813516068473), (19, 0.03309191238180895), (20, -0.11991102426452412), (21, -0.22596693412854277), (22, 0.6707854182809294), (23, -0.16580488769968843), (24, 0.33359084850137183), (25, 0.03198452093060601), (26, 0.5971157419896991), (27, -0.650862623830929), (28, 0.08062084775171613), (29, -0.5043382389318304), (30, -0.14657971125136832), (31, -0.03201496308734665), (32, 0.04736898170859449), (33, -0.12822211128322908), (34, 0.0701966620887715), (35, -0.19980884958833506), (36, -0.2968024534147036), (37, -0.025416402153985718), (38, 0.10688162001496931), (39, 0.07916836335079011), (40, 0.16348438999588635), (41, -0.25952363436102044), (42, -0.046916605944538566), (43, -0.0019138510528547287), (44, 0.01011078875328756), (45, -0.17292268676664616), (46, 0.42283600853259345), (47, 0.2751239813030998), (48, -0.15046145627414803), (49, -0.14074504392803036), (50, 0.19239794751280442), (51, 0.17812238803898411), (52, 0.5085915940482296), (53, -0.08752809074931038), (54, -0.05352913459173746), (55, 0.07308481973725427), (56, 0.10337240264027528), (57, -0.3393183556914549), (58, -0.24714237938237432), (59, 0.09456100620774222), (60, -0.030008542551706548), (61, -0.06303754682667835), (62, 0.0003985871350707694), (63, -0.37124773239877756), (64, 0.029339747561443058), (65, -0.012840430291018397), (66, -0.2011957289302693), (67, -0.09836467315617849), (68, 0.2056928734900262), (69, -0.014591124784606009), (70, -0.03966911633397113), (71, 0.4641816609738234), (72, 0.20976182521371817), (73, -0.0044714750695919875), (74, -0.3202399472741483), (75, -0.070701838506485), (76, 0.22430663046869967), (77, 0.12186141813819805), (78, -0.205467161380518), (79, 0.061414279134325636), (80, 0.0399013901834578), (81, -0.2029272757458576), (82, -0.49173245564582013), (83, 0.07674127061613811), (84, 0.4468134407003175), (85, 0.2573130690563665), (86, -0.2976938565953107), (87, -0.21105203111231025), (88, 0.03109290887257525), (89, -0.49476492125806537), (90, 0.04549428242268147), (91, -0.12575676946023256), (92, -0.1457234412900854), (93, 0.049820749793009225), (94, 0.031522859631844674), (95, 0.13161509120891365), (96, 0.2233721104507355), (97, 0.10810617310651072), (98, -0.08770473744170448), (99, 0.13383585276682908), (100, -0.18668962480784085), (101, 0.001160585803142683), (102, -0.015597571087396372), (103, 0.11651459109501278), (104, 0.04503850433722788), (105, 0.054388787788549456), (106, 0.27277476525122113), (107, 0.06075259618998713), (108, -0.043103988505167445), (109, -0.18393742763833026), (110, 0.01680378541358378), (111, 0.011521369791670233), (112, -0.1660198415141528), (113, -0.07341252847112181), (114, 0.04933358239024958), (115, 0.11144797622631908), (116, -0.03344463011764677), (117, -0.05943359265969346), (118, 0.00752884044916316), (119, 0.01114825172215278), (120, -0.09566007553106842), (121, -0.30813155486508553), (122, 0.14574169744607154), (123, 0.07396994304611211), (124, 0.1830246614251853), (125, -0.11783199209204712), (126, -0.07859235372428675), (127, -0.011047810009990007), (128, -0.07404323493102832), (129, 0.2443662857692491), (130, -0.2584353324674751), (131, 0.031974725885512395), (132, 0.2184706589405065), (133, -0.016465265348825253), (134, -0.22152424704762017), (135, -0.10996060836009457), (136, 0.17992731923408697), (137, -0.1637741583967359), (138, 0.1436196725154324), (139, 0.004731573168278814), (140, 0.13421068098468272), (141, -0.0867645793651082), (142, 0.010439879777582955), (143, 0.2143840549830542), (144, 0.12421842708985051), (145, 0.1643062616004596), (146, -0.3007000793515431), (147, 0.3257048807787239), (148, -0.37407868866025257), (149, -0.09981905736839797), (150, -0.30881244770979555), (151, 0.05916791905516884), (152, 0.057773536049819954), (153, -0.018837449118550877), (154, -0.04258196140763894), (155, -0.016801351938463174), (156, -0.5916347975354195), (157, -0.08132841906884261), (158, 0.14706699796076633), (159, 0.03428742497395136), (160, 0.012821534328522344), (161, -0.04431714916317065), (162, -0.11748010585824911), (163, -0.3600441577700456), (164, -0.27537630836754595), (165, -0.25727995649509017), (166, -0.06689070317636212), (167, 0.31576653039600455), (168, 0.09882373088767472), (169, 0.12091914312396754), (170, 0.04723169543133689), (171, -0.01795193048123974), (172, 0.005679967031540306), (173, -0.3756177233732066), (174, 0.0266029923044203), (175, -0.4154288858884166), (176, 0.011498545455323708), (177, 0.2879838181188277), (178, -0.018080412176742458), (179, 0.10245297420290059), (180, -0.12163257212632302), (181, 0.08561274407096225), (182, -0.002146800405961692), (183, 0.007497952020570936), (184, -0.09424655452020392), (185, -0.21179936952020667), (186, 0.015786220760943763), (187, 0.0646485617667434), (188, -0.15307644958621047), (189, -0.017566950125673858), (190, -0.07212883119951863), (191, -0.07766945805598378), (192, -0.1752495196381234), (193, 0.08775800271843467), (194, 0.11746148387478678), (195, 0.07937889414403257), (196, -0.013724691312704866), (197, -0.2118818468538154), (198, -0.06110286999469875), (199, 0.21281177208089158)]),\n",
              "       list([(0, 3.97261898820098), (1, -2.749078152776543), (2, -0.42385805273807475), (3, 0.5346090850380749), (4, 0.7615274063882133), (5, 0.1424939267237205), (6, 0.07838672076156766), (7, -0.391736712600771), (8, -0.5875176751451652), (9, -2.110786580827695), (10, 0.8850997606260168), (11, 0.7547903173686384), (12, 0.8863480638444272), (13, 2.830258017112039), (14, 0.18430015170279565), (15, -0.2420898909953944), (16, -0.4131087993782645), (17, -0.01308162780119658), (18, 0.705666024274338), (19, 0.15335995060839608), (20, 0.8361710751997562), (21, -0.30049197249912146), (22, -0.556364160110122), (23, 0.6986262265712386), (24, -0.23520353431893812), (25, 0.00898529834868814), (26, -1.1566914163251545), (27, 0.2018742893903746), (28, -0.17421390239514895), (29, 0.3836051432224292), (30, -0.4238532457069173), (31, 0.364845117746499), (32, 0.11025405007120419), (33, -0.20916972563668992), (34, -0.45909820242367316), (35, -0.3466840515006331), (36, 0.18031902710940811), (37, 0.21846644083559685), (38, -0.17181569150070092), (39, 0.14173276599219603), (40, 0.28055365092258794), (41, -0.315843348069951), (42, 0.09329650183308522), (43, -0.12346697008477454), (44, 0.24438445565893135), (45, -0.09516405439744015), (46, 0.5230085008110424), (47, 0.3873865545082709), (48, -0.11407289776114808), (49, -0.045114034880413295), (50, 0.12086415102785937), (51, 0.22991371843193364), (52, 0.1487970626252709), (53, 0.5434691838278627), (54, 0.06259514073872832), (55, 0.1848656276393516), (56, -0.5176181158181775), (57, 0.19579589983215415), (58, 0.07855796605060941), (59, -0.00102338041692371), (60, 0.3309719225354999), (61, 0.13223218554142543), (62, -0.3325048570116399), (63, 0.14967762139892013), (64, 0.04469617140971594), (65, -0.20873375086413062), (66, -0.08690646263172089), (67, 0.5534090477658671), (68, 0.016670499192672), (69, -0.09023800152850278), (70, -0.0929931299475954), (71, -0.0032343755510302503), (72, -0.17763117462155759), (73, -0.2019140738515672), (74, -0.088482606662735), (75, -0.05311909551867809), (76, 0.22417505022331743), (77, -0.13173384351574172), (78, -0.13455912310774834), (79, 0.22333824835495591), (80, 0.21587677119170917), (81, 0.14033521845139502), (82, 0.1504125013801581), (83, 0.5332385112804492), (84, -0.1252495914770742), (85, -0.17645663733658007), (86, 0.45148584054144036), (87, -0.3776972513826475), (88, 0.02625381371980766), (89, -0.22270232119285419), (90, -0.3864369661849324), (91, 0.11344239247175816), (92, -0.5212249883104962), (93, -0.26383945130186603), (94, 0.14367273507392367), (95, -0.0975666160942555), (96, 0.05972536073442411), (97, 0.13965183400553882), (98, -0.20767522118933987), (99, -0.050699309053789395), (100, -0.3289195611382335), (101, -0.1898644780571423), (102, -0.3720257968942437), (103, 0.29265051286028243), (104, 0.06280273938642347), (105, -0.14947354207323849), (106, 0.18731971596069527), (107, -0.4121526678372836), (108, 0.33181470242640615), (109, -0.04219907247930207), (110, 0.013152808065336257), (111, 0.5269263099201256), (112, -0.11988246429627017), (113, -0.21422854308941838), (114, 0.24762936839235394), (115, -0.2826863918242321), (116, -0.5669733743861051), (117, -0.05983210703568866), (118, -0.3135378213777476), (119, 0.1315590298116925), (120, 0.36925931094749703), (121, -0.1310002139957682), (122, -0.26127136321828714), (123, -0.37249562324229435), (124, -0.2072527341171544), (125, -0.15024801154039424), (126, -0.08572744165565811), (127, -0.1110279916193087), (128, 0.04456924048479577), (129, 0.306986925928931), (130, -0.03348056906579881), (131, -0.26222978879852343), (132, -0.009833345304518942), (133, -0.2839231504583643), (134, -0.1384289412304208), (135, -0.34124697683959426), (136, 0.08185966122838008), (137, 0.011245431207422017), (138, 0.0032944154191337895), (139, -0.1110072874513415), (140, -0.16712828362037166), (141, -0.8091696852342923), (142, -0.5578415452217803), (143, -0.36869626913754344), (144, -0.05241825810202929), (145, 0.174353174338631), (146, -0.23856192706496604), (147, 0.25519504720447617), (148, 0.08541921391256556), (149, 0.1956245626163906), (150, -0.7550650628634042), (151, 0.13809018259882858), (152, 0.29282682085867073), (153, 0.7503865643686194), (154, -0.1039300497406814), (155, 0.19101114720698006), (156, -0.3914004891462969), (157, -0.035430719114878176), (158, -0.25098707217908633), (159, 0.44049526880550344), (160, 0.16816400079008229), (161, 0.1243144597899121), (162, 0.08397209905523381), (163, 0.4057817365196777), (164, -0.06537479081993124), (165, 0.015664230494305223), (166, 0.09523632163947462), (167, 0.3962523182980059), (168, -0.4246864882446467), (169, -0.12193654884743743), (170, -0.40516907152671483), (171, -0.11535811099255847), (172, -0.22555674039358978), (173, 0.40714027138669345), (174, 0.14451577018481354), (175, 0.0625354177435362), (176, -0.13585093013224023), (177, 0.05211919032310029), (178, 0.6113751231286224), (179, -0.0974581100355316), (180, -0.25705617102210715), (181, -0.5255797149731243), (182, -0.2819849809233493), (183, -0.0202507633036193), (184, -0.5049761145317133), (185, -0.3665280076834649), (186, 0.16437179120725753), (187, 0.751495392976131), (188, -0.08228327935304922), (189, -0.2140769946653454), (190, 0.03190418504232552), (191, -0.3579191400892773), (192, 0.33875472766357606), (193, 0.08635396171444579), (194, -0.006078752159902466), (195, -0.24663650122470182), (196, -0.31238039762660147), (197, -0.2996981062606069), (198, -0.20787272195778664), (199, -0.2740687170859881)]),\n",
              "       list([(0, 0.7660354626993712), (1, -0.7405015563086267), (2, -0.16289144831359045), (3, 0.23427995496304804), (4, 0.22533128899900964), (5, 0.035547138831394806), (6, -0.05121000777518969), (7, 0.050016907325346555), (8, -0.01221470077440103), (9, -0.21271693181782156), (10, 0.12270714287351057), (11, 0.055403986225040835), (12, 0.1570392430190452), (13, 0.22802075052915305), (14, 0.12916253909923603), (15, -0.011770986717217928), (16, 0.07390102826348023), (17, 0.1611070932049888), (18, -0.06648775429205506), (19, 0.15749968873664694), (20, 0.029698340059209127), (21, -0.11829322924205876), (22, 0.1436928103525328), (23, -0.06864213904244207), (24, 0.0005594124594453156), (25, 0.038921382982201914), (26, -0.01239126646344771), (27, -0.15665085716744637), (28, -0.24738063824831416), (29, -0.1013275537483276), (30, -0.027348362483684423), (31, -0.0533692361732278), (32, -0.2179575758399164), (33, 0.23537821148080038), (34, -0.2510330974454999), (35, -0.08431740757352185), (36, -0.019154722090005925), (37, 0.012120494213339859), (38, 0.02708077975938151), (39, -0.11970028238118198), (40, 0.2056320334247944), (41, -0.22223013520219534), (42, -0.08763541185996403), (43, 0.010084933590037315), (44, -0.1471376533125967), (45, -0.17711678802477693), (46, 0.41061284727247205), (47, -0.18454322592263614), (48, 0.0482183283776475), (49, -0.020658747128486258), (50, 0.062488433511645965), (51, -0.16546520769595957), (52, 0.22690790788787116), (53, -0.00941731806786784), (54, -0.17622080406319673), (55, 0.0183102929112615), (56, -0.17294728940231668), (57, -0.06336223495452512), (58, -0.3365008033336279), (59, 0.04639278804791786), (60, -0.050561842007855635), (61, 0.017561824786340545), (62, 0.14275757413713308), (63, -0.16373183197006977), (64, 0.2404715905254508), (65, 0.054402132467121014), (66, -0.10497457310072796), (67, -0.015267215206936097), (68, 0.08986890240040488), (69, 0.12407510893034873), (70, -0.03785942586001831), (71, 0.022728770945797536), (72, 0.0638012042940741), (73, 0.17071056162393478), (74, 0.12760758862856328), (75, -0.07576352528524591), (76, -0.025443192614033612), (77, -0.03225107547498733), (78, -0.16061897859643798), (79, 0.007582546181721283), (80, -0.04405255384689038), (81, -0.09858819128477238), (82, -0.06505239264841986), (83, 0.18812976392975522), (84, 0.1253576263461727), (85, 0.1517384237087378), (86, -0.2529977285112009), (87, 0.09983089049520857), (88, 0.11972081550689528), (89, 0.08338001145117668), (90, -0.3094201674097482), (91, -0.09863316694699516), (92, -0.0753269398912128), (93, 0.08473816586038853), (94, -0.027659780633998713), (95, 0.0940261296585316), (96, 0.0011090627991463507), (97, -0.012970835091333021), (98, -0.11099773290847813), (99, 0.07808011882431426), (100, -0.1477644719681322), (101, 0.0669120302635916), (102, -0.005813270755599058), (103, 0.0707157029341265), (104, 0.0451347526823026), (105, -0.043280556530616666), (106, 0.15640207514878626), (107, -0.11221234502699734), (108, 0.16332059623463066), (109, -0.09693612273742784), (110, 0.003557966226110652), (111, 0.047244087939545897), (112, -0.1117715423340585), (113, 0.16523736668158595), (114, 0.12196138203619898), (115, -0.20212238368555363), (116, -0.10533160127953585), (117, -0.16246323065992965), (118, -0.056006214943882485), (119, 0.05651504373183974), (120, 0.2804148279829961), (121, 0.03289577253031012), (122, -0.014333807025765912), (123, -0.33385644639767403), (124, -0.23982578250985995), (125, 0.03637977289769533), (126, -0.18135368864437726), (127, 0.03849663862156015), (128, -0.0932019495396708), (129, -0.02266147924706543), (130, 0.048306474816516266), (131, -0.154083894733766), (132, 0.02035959366795065), (133, -0.028165121027115908), (134, 0.0781114187245891), (135, -0.07072024217462898), (136, 0.02855480302343151), (137, -0.17471052819078817), (138, -0.058361724534018), (139, -0.2043353004760216), (140, 0.24171684567978646), (141, -0.07503904840721046), (142, -0.18610132731744614), (143, -0.020950448788282568), (144, -0.1963352353344617), (145, -0.07131004932995483), (146, -0.14344883458500196), (147, 0.17487761560741155), (148, -0.2420555941681463), (149, 0.2190645969457849), (150, -0.09546355572560458), (151, -0.03354782651751359), (152, -0.07796111495214766), (153, 0.1285865169020622), (154, 0.014041042457828695), (155, -0.06177340420842792), (156, 0.10146150498297504), (157, -0.12630741455510053), (158, 0.008061137373848247), (159, -0.061447738183371625), (160, 0.00529842698764655), (161, 0.0029947655216179363), (162, -0.2911458313357339), (163, -0.09377522286694573), (164, 0.02132609633557188), (165, -0.04685802321238696), (166, 0.14181952277297372), (167, 0.05502633658065613), (168, -0.06661292695824726), (169, 0.11764754646988465), (170, -0.05668779679725296), (171, -0.18036170728499962), (172, -0.17031063083646797), (173, 0.03145286846026892), (174, 0.0003249784531834804), (175, -0.2023399694865307), (176, -0.08780984109470077), (177, 0.3333188014616809), (178, -0.13063658840375056), (179, -0.04716508756680297), (180, -0.004911208265714048), (181, -0.0721731867289169), (182, 0.1585251699707631), (183, 0.02213484731669961), (184, -0.11358801209911384), (185, -0.1578786046377478), (186, 0.09844980042036396), (187, 0.1467780935173929), (188, 0.019218092451660194), (189, -0.10539634580280212), (190, 0.038659768104184325), (191, 0.030502194882997512), (192, 0.15422609287085737), (193, -0.1081679200783418), (194, -0.008088678221979693), (195, -0.11097247177520762), (196, -0.016288819186551035), (197, -0.0010370957188041707), (198, -0.12426558971835377), (199, 0.029451344928018194)]),\n",
              "       ...,\n",
              "       list([(0, 0.6554890264674541), (1, 0.30435963339771444), (2, 0.05998188427866074), (3, -0.05695275026165069), (4, -0.018431087818701022), (5, 0.0984357130612647), (6, 0.22228177815545222), (7, 0.06872793532897331), (8, 0.10380796804006884), (9, -0.09215168643504723), (10, 0.04610620374874992), (11, -0.12071725407653387), (12, -0.015823871274527022), (13, 0.008593297313106327), (14, 0.10933254398488616), (15, 0.03362469063163217), (16, 0.11892075194500971), (17, 0.24265644504859757), (18, -0.16647441406006602), (19, 0.07384316473992586), (20, 0.0063168313818309915), (21, -0.1160849535609715), (22, 0.06630463042313359), (23, 0.05058960243679856), (24, 0.14915547862062262), (25, 0.04953462200453609), (26, -0.07219023059468307), (27, -0.0055156780180518105), (28, -0.015156158264726346), (29, -0.015790440692056953), (30, -0.10420391950624543), (31, -0.10316719578899262), (32, 0.07266213387894797), (33, -0.03652160833808665), (34, -0.30151363991559366), (35, -0.03880381892629662), (36, -0.229761509998035), (37, 0.0025465625180310886), (38, 0.16900785504256688), (39, -0.1385675495879526), (40, 0.14338073251466696), (41, -0.14075543972344431), (42, -0.11833202998050506), (43, 0.16601143265961638), (44, 0.07149064808042506), (45, -0.09987188701962388), (46, 0.1180075904326354), (47, -0.04318217529646289), (48, 0.12894184890713212), (49, 0.04006043494823272), (50, 0.26171771486652634), (51, -0.15445874034513152), (52, -0.002073998115018926), (53, -0.08121606267440694), (54, 0.1932486973523555), (55, -0.2173398077865503), (56, 0.06706405937358433), (57, 0.13404471207510033), (58, -0.2626733800408696), (59, -0.1850787442820304), (60, 0.18665917456371622), (61, 0.1194606435794814), (62, -0.1353009776403849), (63, -0.07054599212405652), (64, 0.25956054830981234), (65, -0.03163744242152603), (66, -0.2625846586981852), (67, 0.016157685930090187), (68, -0.10857217184772192), (69, 0.27306954118859644), (70, 0.030054060331439182), (71, -0.14065459386345391), (72, -0.05907244712847773), (73, -0.10252056448039447), (74, -0.09022436467771161), (75, 0.06206659024253563), (76, -0.10630220103958446), (77, -0.07270591541498224), (78, -0.19003733498995387), (79, 0.09581209169467611), (80, -0.3514918369186445), (81, 0.1782958399941214), (82, 0.2608675910484218), (83, -0.06598846533855923), (84, -0.048038998420210165), (85, -0.03689297906653881), (86, -0.17295800867295252), (87, 0.25390133637604095), (88, -0.18180417862569628), (89, -0.226527253803843), (90, -0.06019650882953591), (91, -0.3465640966934114), (92, 0.14470157062193256), (93, -0.10874496438512703), (94, -0.10672659445507203), (95, 0.18752804085534655), (96, 0.1283427227417058), (97, 0.20443298767778506), (98, -0.16247184815526122), (99, 0.2696559815401339), (100, -0.11141139717916386), (101, 0.1422666234661101), (102, -0.27063848088922926), (103, -0.08910151297611046), (104, -0.04453172620388681), (105, 0.02427718999719562), (106, 0.2093706641854333), (107, 0.22967797037107973), (108, 0.0514386276049302), (109, 0.12393156726319628), (110, 0.21412653257621045), (111, 0.02371523330752861), (112, -0.09043515161764652), (113, -0.0792864262844345), (114, 0.13505017291584373), (115, -0.20783898302969092), (116, -0.18658583068976214), (117, -0.10152618291291478), (118, 0.0710112849495155), (119, -0.15557315972407368), (120, 0.11897423444100261), (121, -0.1706205985027266), (122, 0.06769879753417679), (123, -0.023229182478950592), (124, 0.0525628632676253), (125, 0.1796139090532378), (126, -0.14205433984236235), (127, -0.04409735069137092), (128, 0.08818165629424025), (129, -0.07270878914729946), (130, -0.053997455870025766), (131, -0.08549520468157586), (132, 0.028713546587021525), (133, -0.1745215167661926), (134, 0.12766774664193767), (135, -0.14461702260464482), (136, 0.08408951019434847), (137, -0.15685077850099546), (138, -0.06318398971510346), (139, 0.11387598676209869), (140, -0.03014210471328116), (141, -0.38746958957331723), (142, -0.007016881971604492), (143, -0.040132173891271904), (144, 0.05204364156398318), (145, 0.01579600083728822), (146, -0.18397845478860023), (147, 0.16725246732199478), (148, -0.08301569968466813), (149, 0.016295710156682956), (150, -0.1787574955011737), (151, -0.05751752179649806), (152, -0.36164939490957), (153, -0.14027431870682439), (154, 0.1494984569054073), (155, 0.10469805531226863), (156, 0.06981951505885703), (157, -0.1470426446161067), (158, 0.07621798016567573), (159, -0.11420597811567851), (160, 0.09385018066152782), (161, -0.06632340048607165), (162, 0.17105800272781754), (163, 0.1898185923437682), (164, 0.024353846280204317), (165, -0.16147919042430658), (166, -0.017436695546622628), (167, -0.008452757638983587), (168, 0.04345949738989377), (169, 0.005084619990331205), (170, -0.013078507937466123), (171, 0.3240018902469806), (172, 0.07568473018337), (173, -0.19398337855380252), (174, 0.10070144097716384), (175, -0.06832667949890889), (176, -0.1140577368596893), (177, -0.02794996649213859), (178, -0.142814741104648), (179, -0.3186327054055909), (180, -0.011120927137677084), (181, -0.03672629126136007), (182, -0.0004737518726998695), (183, 0.15810369328451818), (184, 0.05131551593081673), (185, 0.004176660478004922), (186, 0.20477134677448908), (187, -0.016554767516698835), (188, -0.13829296206197197), (189, 0.15187675405117598), (190, 0.06232952753082795), (191, -0.034233539701813004), (192, -0.15595478915664754), (193, -0.189885190728019), (194, -0.15457178142864553), (195, -0.015227465787024847), (196, -0.033382718209520004), (197, 0.016967882889563277), (198, -0.12051892103279625), (199, 0.18740271126521046)]),\n",
              "       list([(0, 0.9500482595624802), (1, 0.2538198389578455), (2, -0.2783576119450027), (3, -0.3102510751132648), (4, -0.6777402149597064), (5, 0.13009620832642557), (6, -0.5161834080547383), (7, -0.5427407187440116), (8, 0.0917599061422886), (9, -0.12396264300256345), (10, 7.792359940722566e-05), (11, -0.14829786813156226), (12, 0.2762664944221022), (13, -0.2507762250883006), (14, 0.12743889408083792), (15, 0.3470221236621989), (16, -0.06916784666912075), (17, -0.1331083713451056), (18, -0.08508053219805484), (19, 0.21174816670846067), (20, 0.22404358687177336), (21, 0.0723419599104684), (22, 0.17617116233668234), (23, -0.030469681614684534), (24, 0.041140717436764444), (25, 0.09852199339429359), (26, -0.09683217450128076), (27, 0.037880830280799395), (28, -0.44817254687405195), (29, 0.12705335171337), (30, 0.09946676226498145), (31, -0.1751971105905856), (32, -0.12596364497874524), (33, -0.1121984115740527), (34, -0.4169644218905384), (35, -0.15301809414408307), (36, 0.1293960216107124), (37, -0.31654745959542346), (38, 0.12392039419733292), (39, -0.24815953786834422), (40, 0.26085812793679897), (41, 0.27888013884758706), (42, 0.05404270008269034), (43, -0.12598264185182964), (44, 0.12325479273576377), (45, 0.16180738678247092), (46, -0.11560630169985626), (47, -0.23478911023114435), (48, -0.1809827262864118), (49, 0.19463536101259746), (50, -0.05835719817305765), (51, 0.13366065727586646), (52, -0.06284760431973796), (53, -0.2600987661738316), (54, -0.1077916518850526), (55, -0.16400013067932628), (56, -0.03396849255276307), (57, 0.11147085533283321), (58, 0.24547465006042848), (59, 0.0015425404462132807), (60, 0.05081901205113192), (61, 0.23351453380960624), (62, 0.17476050209542407), (63, 0.23279276175322292), (64, 0.1033223965893646), (65, -0.021223541654341656), (66, 0.21899228902038204), (67, -0.21389113402655907), (68, 0.15799826948046478), (69, -0.1468526410466274), (70, 0.08089848334365898), (71, -0.16675655157779676), (72, -0.29009158767889665), (73, -0.05188902899686961), (74, -0.13779279968286273), (75, -0.04244972242184924), (76, 0.1156452147654254), (77, 0.12361112775647634), (78, 0.16320737833426419), (79, -0.1334976971123433), (80, -0.04554768378665445), (81, 0.22041791633762164), (82, 0.049326287922986295), (83, -0.11213669591607722), (84, -0.22764934766284342), (85, -0.14911548037006245), (86, -0.006698431566108561), (87, 0.15860620634545025), (88, -0.003305656639256272), (89, -0.049287966883229034), (90, 0.1817708912466832), (91, -0.010384764698792065), (92, -0.37906023869028327), (93, 0.10069510441830458), (94, -0.059897690562884486), (95, -0.18360064635372508), (96, -0.13331342109096095), (97, -0.23014354779919277), (98, -0.07094444143141566), (99, 0.166492775291939), (100, 0.007285905510305956), (101, -0.3872192781787547), (102, -0.07068702312076652), (103, -0.0005643743522423586), (104, -0.022868969847896336), (105, -0.04739999791044644), (106, 0.27078093134113235), (107, -0.07209489908928603), (108, -0.09780204360879305), (109, 0.047996079630839766), (110, -0.0941752207874522), (111, -0.3527423807917229), (112, -0.07421468128117178), (113, 0.04148199217490755), (114, 0.007270871329343244), (115, -0.10195170206728871), (116, 0.1211175874793746), (117, 0.13385978339633062), (118, 0.05900405704209444), (119, 0.011788649557639478), (120, -0.0934322528475281), (121, -0.023333398826498066), (122, 0.31904848613147774), (123, 0.1653191134447578), (124, -0.16981481118794173), (125, -0.05579629381328018), (126, 0.1585805383905601), (127, -0.17385497860952523), (128, 0.1432002681871474), (129, 0.1852041235794388), (130, 0.13915330592443703), (131, -0.027044214454374393), (132, 0.15477928566696475), (133, 0.24208044641324597), (134, -0.04430443813246644), (135, 0.10007918897868953), (136, 0.22118682362766778), (137, 0.24820607091489763), (138, 0.1840413037769953), (139, -0.1728880771297892), (140, 0.1598528348308997), (141, 0.22719920203474808), (142, 0.019097986129200075), (143, -0.03954359502251643), (144, 0.13625192046060797), (145, -0.10011336575657266), (146, 0.07189581487592048), (147, 0.03026857178226555), (148, -0.12274155957493063), (149, 0.22432183224450605), (150, 0.0008384579530019479), (151, 0.14168286904059305), (152, 0.10646035199669686), (153, 0.11797760425938336), (154, -0.04616607676686223), (155, -0.1948023325614507), (156, 0.21978801220871808), (157, -0.09924862707192593), (158, -0.05898355578594246), (159, 0.034928170727768396), (160, 0.12333636003438753), (161, -0.029491785256928242), (162, -0.05616784894105345), (163, -0.07888247145391027), (164, -0.031961550839045866), (165, 0.05432058959829894), (166, -0.00922041016124392), (167, -0.05284305501361479), (168, 0.06285200843653312), (169, -0.2797724617476986), (170, 0.26882627224887207), (171, -0.14292126076250972), (172, -0.10318342044107304), (173, 0.06867750085859628), (174, -0.014030299773061635), (175, 0.2600045745114337), (176, -0.17418174149702428), (177, -0.2302944433968595), (178, 0.08696644889279954), (179, 0.17170274082942225), (180, -0.13560878809501817), (181, 0.012472892741173103), (182, -0.03335535131963313), (183, -0.1664953762549065), (184, 0.047140043430006245), (185, 0.21263116451867353), (186, 0.02170874593470833), (187, 0.026391159007984062), (188, 0.08064089698929187), (189, -0.3546868430385292), (190, -0.15468093387172485), (191, 0.09424280895713488), (192, -0.01865319409706968), (193, -0.2126759444810516), (194, 0.11716727306797663), (195, 0.179773655161522), (196, -0.08015023069401638), (197, -0.10882030048687012), (198, 0.006023911968579133), (199, -0.1219387198836343)]),\n",
              "       list([(0, 0.8332507391093722), (1, 0.3100246803503126), (2, -0.13821442958228145), (3, -0.21132823850757385), (4, -0.08385677026013448), (5, -0.08718466564144256), (6, 0.04886237781829647), (7, 0.026009683992180094), (8, 0.17844587452184638), (9, 0.033311412008580725), (10, -0.03509414699448621), (11, -0.28954729073232527), (12, -0.31699576536585217), (13, 0.3522482310224533), (14, 0.21053743839483408), (15, 0.04405722713161882), (16, 0.06901701685200894), (17, -0.2095037140690157), (18, -0.04316202751748121), (19, 0.22674248688866144), (20, 0.032624999786032484), (21, -0.05616978413851078), (22, 0.2811547431335755), (23, -0.09330162660697904), (24, 0.1377482122789354), (25, 0.064334086727095), (26, 0.01641171582104406), (27, -0.02508202980492826), (28, 0.16992413210786725), (29, -0.23425447309846725), (30, -0.10793281722759751), (31, 0.03829676562473958), (32, -0.2875424063119424), (33, -0.21075190440130548), (34, -0.20297857683925333), (35, 0.013594847538863624), (36, 0.16193231352874263), (37, 0.03388499335791743), (38, 0.07296307546818927), (39, -0.1508526615714296), (40, 0.020334999830298583), (41, -0.14778958260663802), (42, 0.4559053747192613), (43, -0.06162628057035345), (44, -8.098070327115618e-05), (45, 0.040982934264832745), (46, -0.044561428385882014), (47, -0.18645204505371218), (48, 0.021820208968608385), (49, 0.21384390130173528), (50, 0.14411723196648282), (51, 0.3967448570127795), (52, -0.0005598696297414243), (53, -0.02979337170590702), (54, -0.015295009858057321), (55, 0.13325804963540883), (56, 0.02565622454429749), (57, 0.021974637737952326), (58, -0.23592101661984566), (59, -0.20022430262480062), (60, 0.23374920708382887), (61, 0.11168047298444342), (62, 0.3982680195558501), (63, -0.26195396984976643), (64, 0.15339122217928253), (65, -0.18978217214802504), (66, 0.16846581288978274), (67, -0.08683379754835337), (68, 0.03916858728461826), (69, -0.3320467002792468), (70, -0.024396028268614072), (71, 0.09271806285362583), (72, 0.09356978847141108), (73, -0.08886088596380137), (74, -0.13204606766643054), (75, -0.2711360147214832), (76, 0.18470413299869134), (77, 0.05497498832165906), (78, -0.14236975688609382), (79, -0.1485381704066294), (80, -0.015416065765903882), (81, -0.029219255049085683), (82, -0.055444579760055235), (83, -0.05303831400380492), (84, -0.1770577277969879), (85, -0.09785122351003919), (86, 0.09267768093521797), (87, 0.2851723417774554), (88, 0.0867168180263537), (89, -0.22836014852081526), (90, 0.08563166788570561), (91, 0.11294539522035801), (92, 0.043441243234803466), (93, 0.12107039979259547), (94, -0.06506758480935182), (95, -0.11096875271453918), (96, 0.025643949708801968), (97, 0.145388694761331), (98, -0.11717767312880259), (99, 0.029694282608636942), (100, -0.08377984974003021), (101, 0.013498456510458275), (102, -0.06544558809715711), (103, -0.14304379480309823), (104, -0.12470425122192003), (105, -0.09379333464446656), (106, -0.051287201923446574), (107, 0.019628104349379245), (108, -0.07959983866540425), (109, -0.09729625388376048), (110, 0.09770836425782058), (111, 0.02519920995401975), (112, -0.042517728909686664), (113, -0.2501729036469824), (114, -0.18002072478506737), (115, -0.09736244983202036), (116, 0.08430157921172074), (117, 0.23896173692957406), (118, -0.03245116407379073), (119, -0.020970515271353005), (120, 0.01598818512345986), (121, -0.07439947441726959), (122, 0.12217006919029044), (123, 0.05104163267759402), (124, -0.01910152617977956), (125, -0.2858149780306574), (126, -0.102220017014353), (127, -0.11433488803902128), (128, -0.07909472967242906), (129, 0.0942489237008566), (130, -0.0906594548191731), (131, 0.07706874397384991), (132, -0.21838816215366444), (133, -0.03812092323526804), (134, -0.024077252958043666), (135, 0.032758611184052606), (136, -0.27969217698602394), (137, -0.019366091554824116), (138, -0.2106418106325499), (139, -0.046293677725174856), (140, 0.05935189265671205), (141, -0.07630700725969805), (142, 0.061310916241705066), (143, 0.06521390745662858), (144, 0.006081371656709864), (145, 0.07878058999262358), (146, -0.2144269787858905), (147, -0.028360842964185794), (148, -0.10490962776268092), (149, 0.04069748561167202), (150, 0.03747166919372124), (151, 0.12059134811853911), (152, 0.07670939551202302), (153, 0.12975695582556337), (154, -0.02457751226781621), (155, -0.004689571843431403), (156, 0.015737582892537412), (157, -0.12857720497192565), (158, 0.13631140072181858), (159, 0.11880717141878115), (160, -0.09523219470721533), (161, 0.0916431674447064), (162, 0.10843224049345772), (163, 0.01570662595591354), (164, -0.04442799843142756), (165, -0.03634462865503807), (166, 0.16904632446212123), (167, -0.11306222310944702), (168, -0.00884567059794107), (169, 0.21577292957144134), (170, 0.1829960804200735), (171, 0.22278528849035267), (172, 0.0756484983601465), (173, -0.17716164251192987), (174, -0.12026081693670589), (175, 0.1600747704862676), (176, 0.13467397949404897), (177, -0.02054146909470449), (178, 0.05370105882902996), (179, -0.06600061193723561), (180, -0.004213682032580338), (181, -0.10078053721934925), (182, -0.11974781990110679), (183, -0.061707545408407276), (184, -0.15831251194107637), (185, 0.0581155060074264), (186, 0.13259519199904932), (187, 0.16839034071791686), (188, -0.05206249593198658), (189, 0.028359613468578865), (190, 0.0760347430276271), (191, -0.028033331095142108), (192, 0.10890671707495013), (193, -0.05119266159712933), (194, -0.09313986768325451), (195, -0.045335013163015414), (196, 0.028291192902845992), (197, -0.0461851944153292), (198, 0.06141814366851743), (199, -0.04948655836274193)])],\n",
              "      dtype=object)"
            ]
          },
          "metadata": {},
          "execution_count": 105
        }
      ]
    },
    {
      "cell_type": "code",
      "source": [
        "num_topics_list = [5,6,8,10,14,18,20,25,30]\n",
        "coh_value_dict_tfidf = calc_coherence(dictionary,clean_docs,corpus_tfidf,num_topics_list)\n",
        "# coh_values = calc_coherence(dictionary,clean_docs,vectorized_input,num_topics_list)"
      ],
      "metadata": {
        "id": "fQRtW2FqQuPV"
      },
      "execution_count": null,
      "outputs": []
    },
    {
      "cell_type": "code",
      "source": [
        "coh_value_zip_tfidf = plot_coherence_graph(num_topics_list,list(coh_value_dict_tfidf.values()))\n",
        "# coh_value_zip_tfidf = plot_coherence_graph(num_topics_list,coh_values)"
      ],
      "metadata": {
        "colab": {
          "base_uri": "https://localhost:8080/",
          "height": 279
        },
        "id": "HN9y381cSWxY",
        "outputId": "676bcbf5-7890-4d02-f325-83cd27bdceaa"
      },
      "execution_count": null,
      "outputs": [
        {
          "output_type": "display_data",
          "data": {
            "text/plain": [
              "<Figure size 432x288 with 1 Axes>"
            ],
            "image/png": "[encoded data removed]"
          },
          "metadata": {
            "needs_background": "light"
          }
        }
      ]
    },
    {
      "cell_type": "code",
      "source": [
        "coh_value_zip_tfidf"
      ],
      "metadata": {
        "colab": {
          "base_uri": "https://localhost:8080/"
        },
        "id": "Q4CkrCDQSb3w",
        "outputId": "861b290d-1fe8-4e39-9194-b18e77bb1b75"
      },
      "execution_count": null,
      "outputs": [
        {
          "output_type": "execute_result",
          "data": {
            "text/plain": [
              "{5: 0.3666185833342644,\n",
              " 6: 0.49498792408968306,\n",
              " 8: 0.45307751990987344,\n",
              " 10: 0.4353629723871088,\n",
              " 14: 0.3299767215332762,\n",
              " 18: 0.385166317198166,\n",
              " 20: 0.32982020290121916,\n",
              " 25: 0.35458250352062465,\n",
              " 30: 0.3239542821110309}"
            ]
          },
          "metadata": {},
          "execution_count": 114
        }
      ]
    },
    {
      "cell_type": "code",
      "source": [
        "max_coh_num_topics_tfidf = max(coh_value_zip_tfidf, key=coh_value_zip_tfidf.get)\n",
        "max_coh_num_model_tfidf = max(coh_value_dict_tfidf, key=coh_value_dict_tfidf.get)\n",
        "# coh_val = [v for k,v in coh_value_zip_tfidf.items() if k ==14][0]\n",
        "# model = [k for k,v in coh_value_dict_tfidf.items() if v == coh_val][0]\n",
        "topics = max_coh_num_model_tfidf.print_topics(num_topics=max_coh_num_topics_tfidf, num_words=10)\n",
        "for i in topics:\n",
        "  print(\"Topic :\", i)"
      ],
      "metadata": {
        "colab": {
          "base_uri": "https://localhost:8080/"
        },
        "id": "0OatsAlGSo99",
        "outputId": "bc59c0c8-d211-40d7-ae1c-410698fe30a7"
      },
      "execution_count": null,
      "outputs": [
        {
          "output_type": "stream",
          "name": "stdout",
          "text": [
            "Topic : (0, '0.191*\"key\" + 0.138*\"bike\" + 0.137*\"people\" + 0.135*\"chip\" + 0.116*\"good\" + 0.115*\"gun\" + 0.115*\"system\" + 0.111*\"government\" + 0.110*\"article\" + 0.104*\"year\"')\n",
            "Topic : (1, '0.515*\"key\" + 0.331*\"chip\" + -0.264*\"bike\" + 0.231*\"encryption\" + 0.216*\"clipper\" + 0.135*\"government\" + 0.115*\"escrow\" + 0.114*\"phone\" + 0.100*\"secret\" + -0.097*\"motorcycle\"')\n",
            "Topic : (2, '-0.312*\"drive\" + -0.311*\"card\" + -0.187*\"scsi\" + 0.185*\"gun\" + -0.176*\"bus\" + -0.173*\"file\" + -0.163*\"disk\" + -0.152*\"graphic\" + -0.150*\"ide\" + -0.149*\"controller\"')\n",
            "Topic : (3, '0.594*\"bike\" + -0.210*\"gun\" + 0.207*\"motorcycle\" + -0.168*\"player\" + 0.167*\"dog\" + -0.157*\"team\" + -0.150*\"game\" + 0.148*\"key\" + 0.136*\"helmet\" + -0.123*\"baseball\"')\n",
            "Topic : (4, '-0.400*\"gun\" + 0.290*\"player\" + 0.287*\"team\" + 0.274*\"game\" + 0.208*\"jewish\" + 0.204*\"baseball\" + 0.164*\"key\" + 0.146*\"season\" + 0.139*\"run\" + -0.131*\"weapon\"')\n",
            "Topic : (5, '0.396*\"drive\" + 0.249*\"scsi\" + -0.228*\"file\" + -0.210*\"image\" + 0.198*\"ide\" + -0.196*\"graphic\" + 0.177*\"gun\" + 0.172*\"controller\" + 0.162*\"bus\" + -0.149*\"program\"')\n"
          ]
        }
      ]
    },
    {
      "cell_type": "code",
      "source": [
        "max_coh_num_model_tfidf.get_topics()"
      ],
      "metadata": {
        "colab": {
          "base_uri": "https://localhost:8080/"
        },
        "id": "ubxceEFENsBP",
        "outputId": "4fc49b2e-285b-4083-99ba-47bd33887c33"
      },
      "execution_count": null,
      "outputs": [
        {
          "output_type": "execute_result",
          "data": {
            "text/plain": [
              "array([[ 2.86243591e-02,  1.09995105e-03,  1.35189522e-01, ...,\n",
              "         2.60166150e-04,  4.06012214e-04,  4.06012214e-04],\n",
              "       [ 4.70283736e-02,  1.52527691e-03,  3.30970931e-01, ...,\n",
              "        -1.49622591e-04, -2.45136352e-04, -2.45136352e-04],\n",
              "       [ 1.92095758e-02,  7.29210226e-04, -1.67625994e-03, ...,\n",
              "         3.41760457e-04,  2.60102438e-04,  2.60102438e-04],\n",
              "       [-1.53920223e-03,  1.65538335e-04,  9.15223704e-02, ...,\n",
              "        -2.55287944e-04, -4.98096809e-04, -4.98096809e-04],\n",
              "       [-5.84474601e-03,  6.78256009e-04,  8.70864508e-02, ...,\n",
              "        -6.93276291e-04, -3.74070347e-04, -3.74070347e-04],\n",
              "       [ 3.35037503e-03,  9.63764023e-05,  7.92903914e-02, ...,\n",
              "         3.07702840e-04, -4.68362726e-05, -4.68362726e-05]])"
            ]
          },
          "metadata": {},
          "execution_count": 146
        }
      ]
    },
    {
      "cell_type": "code",
      "source": [
        "max_coh_num_model_tfidf.show_topics()"
      ],
      "metadata": {
        "colab": {
          "base_uri": "https://localhost:8080/"
        },
        "id": "colYPinMNwAb",
        "outputId": "e640a881-8b3f-4e94-d9ee-eacb98c676c3"
      },
      "execution_count": null,
      "outputs": [
        {
          "output_type": "execute_result",
          "data": {
            "text/plain": [
              "[(0,\n",
              "  '0.191*\"key\" + 0.138*\"bike\" + 0.137*\"people\" + 0.135*\"chip\" + 0.116*\"good\" + 0.115*\"gun\" + 0.115*\"system\" + 0.111*\"government\" + 0.110*\"article\" + 0.104*\"year\"'),\n",
              " (1,\n",
              "  '0.515*\"key\" + 0.331*\"chip\" + -0.264*\"bike\" + 0.231*\"encryption\" + 0.216*\"clipper\" + 0.135*\"government\" + 0.115*\"escrow\" + 0.114*\"phone\" + 0.100*\"secret\" + -0.097*\"motorcycle\"'),\n",
              " (2,\n",
              "  '-0.312*\"drive\" + -0.311*\"card\" + -0.187*\"scsi\" + 0.185*\"gun\" + -0.176*\"bus\" + -0.173*\"file\" + -0.163*\"disk\" + -0.152*\"graphic\" + -0.150*\"ide\" + -0.149*\"controller\"'),\n",
              " (3,\n",
              "  '0.594*\"bike\" + -0.210*\"gun\" + 0.207*\"motorcycle\" + -0.168*\"player\" + 0.167*\"dog\" + -0.157*\"team\" + -0.150*\"game\" + 0.148*\"key\" + 0.136*\"helmet\" + -0.123*\"baseball\"'),\n",
              " (4,\n",
              "  '-0.400*\"gun\" + 0.290*\"player\" + 0.287*\"team\" + 0.274*\"game\" + 0.208*\"jewish\" + 0.204*\"baseball\" + 0.164*\"key\" + 0.146*\"season\" + 0.139*\"run\" + -0.131*\"weapon\"'),\n",
              " (5,\n",
              "  '0.396*\"drive\" + 0.249*\"scsi\" + -0.228*\"file\" + -0.210*\"image\" + 0.198*\"ide\" + -0.196*\"graphic\" + 0.177*\"gun\" + 0.172*\"controller\" + 0.162*\"bus\" + -0.149*\"program\"')]"
            ]
          },
          "metadata": {},
          "execution_count": 147
        }
      ]
    },
    {
      "cell_type": "code",
      "source": [
        "def find_topword(model,n = 10):\n",
        "  top_word_list = []\n",
        "  for i in model.show_topics():\n",
        "    k = i[1]\n",
        "    top_word_list.append(' '.join(re.findall('\"([^\"]*)\"', k)))\n",
        "  return top_word_list"
      ],
      "metadata": {
        "id": "AT2UpUvIUQU8"
      },
      "execution_count": null,
      "outputs": []
    },
    {
      "cell_type": "code",
      "source": [
        "tp_word_list = find_topword(max_coh_num_model_tfidf)\n",
        "print(len(tp_word_list))\n",
        "draw_word_cloud(tp_word_list,\"TfIDF_LSA_k6\")"
      ],
      "metadata": {
        "id": "006YnxEHNDS5"
      },
      "execution_count": null,
      "outputs": []
    },
    {
      "cell_type": "code",
      "source": [
        "np.array(max_coh_num_model_tfidf.__getitem__(doc_term_matrix)).shape"
      ],
      "metadata": {
        "colab": {
          "base_uri": "https://localhost:8080/"
        },
        "id": "ka5DJ3jia0Qx",
        "outputId": "2b20d1b8-5a14-46f2-e5b2-d4d11dc56f31"
      },
      "execution_count": null,
      "outputs": [
        {
          "output_type": "execute_result",
          "data": {
            "text/plain": [
              "(5672,)"
            ]
          },
          "metadata": {},
          "execution_count": 171
        }
      ]
    }
  ]
}